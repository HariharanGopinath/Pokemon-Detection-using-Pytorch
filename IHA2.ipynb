{
 "cells": [
  {
   "cell_type": "markdown",
   "metadata": {
    "deletable": false,
    "editable": false,
    "nbgrader": {
     "cell_type": "markdown",
     "checksum": "5fa9f96d4ca0144b2db877078cf7b2f8",
     "grade": false,
     "grade_id": "cell-5690119ead85e67e",
     "locked": true,
     "schema_version": 3,
     "solution": false,
     "task": false
    }
   },
   "source": [
    "### Checklist for submission\n",
    "\n",
    "It is extremely important to make sure that:\n",
    "\n",
    "1. Everything runs as expected (no bugs when running cells);\n",
    "2. The output from each cell corresponds to its code (don't change any cell's contents without rerunning it afterwards);\n",
    "3. All outputs are present (don't delete any of the outputs);\n",
    "4. Fill in all the places that say `# YOUR CODE HERE`, or \"**Your answer:** (fill in here)\".\n",
    "5. Never copy/paste any notebook cells. Inserting new cells is allowed, but it should not be necessary.\n",
    "6. The notebook contains some hidden metadata which is important during our grading process. **Make sure not to corrupt any of this metadata!** The metadata may for example be corrupted if you copy/paste any notebook cells, or if you perform an unsuccessful git merge / git pull. It may also be pruned completely if using Google Colab, so watch out for this. Searching for \"nbgrader\" when opening the notebook in a text editor should take you to the important metadata entries.\n",
    "7. Although we will try our very best to avoid this, it may happen that bugs are found after an assignment is released, and that we will push an updated version of the assignment to GitHub. If this happens, it is important that you update to the new version, while making sure the notebook metadata is properly updated as well. The safest way to make sure nothing gets messed up is to start from scratch on a clean updated version of the notebook, copy/pasting your code from the cells of the previous version into the cells of the new version.\n",
    "8. If you need to have multiple parallel versions of this notebook, make sure not to move them to another directory.\n",
    "9. Although not forced to work exclusively in the course `conda` environment, you need to make sure that the notebook will run in that environment, i.e. that you have not added any additional dependencies.\n",
    "\n",
    "**FOR HA1, HA2, HA3 ONLY:** Failing to meet any of these requirements might lead to either a subtraction of POEs (at best) or a request for resubmission (at worst).\n",
    "\n",
    "We advise you to perform the following steps before submission to ensure that requirements 1, 2, and 3 are always met: **Restart the kernel** (in the menubar, select Kernel$\\rightarrow$Restart) and then **run all cells** (in the menubar, select Cell$\\rightarrow$Run All). This might require a bit of time, so plan ahead for this (and possibly use Google Cloud's GPU in HA1 and HA2 for this step). Finally press the \"Save and Checkout\" button before handing in, to make sure that all your changes are saved to this .ipynb file."
   ]
  },
  {
   "cell_type": "markdown",
   "metadata": {
    "deletable": false,
    "editable": false,
    "nbgrader": {
     "cell_type": "markdown",
     "checksum": "a6bb874a16c1ff767ac0f37ce0491265",
     "grade": false,
     "grade_id": "cell-774c93bf6433de68",
     "locked": true,
     "schema_version": 3,
     "solution": false,
     "task": false
    }
   },
   "source": [
    "### Fill in name of notebook file\n",
    "This might seem silly, but the version check below needs to know the filename of the current notebook, which is not trivial to find out programmatically.\n",
    "\n",
    "You might want to have several parallel versions of the notebook, and it is fine to rename the notebook as long as it stays in the same directory. **However**, if you do rename it, you also need to update its own filename below:"
   ]
  },
  {
   "cell_type": "code",
   "execution_count": 1,
   "metadata": {},
   "outputs": [],
   "source": [
    " nb_fname = \"IHA2.ipynb\"\n",
    "    "
   ]
  },
  {
   "cell_type": "markdown",
   "metadata": {
    "deletable": false,
    "editable": false,
    "nbgrader": {
     "cell_type": "markdown",
     "checksum": "879883c2ea755808ffd00aeee5c77a00",
     "grade": false,
     "grade_id": "cell-5676bcf768a7f9be",
     "locked": true,
     "schema_version": 3,
     "solution": false,
     "task": false
    }
   },
   "source": [
    "### Fill in group number and member names (use NAME2 and GROUP only for HA1, HA2 and HA3):"
   ]
  },
  {
   "cell_type": "code",
   "execution_count": 2,
   "metadata": {},
   "outputs": [],
   "source": [
    "NAME1 = \"Hariharan Gopinath\" \n",
    "NAME2 = \"\"\n",
    "GROUP = \"\""
   ]
  },
  {
   "cell_type": "markdown",
   "metadata": {
    "deletable": false,
    "editable": false,
    "nbgrader": {
     "cell_type": "markdown",
     "checksum": "42f960a95815e1aa3ce8132fcec59cd9",
     "grade": false,
     "grade_id": "cell-a15fe781533d9590",
     "locked": true,
     "schema_version": 3,
     "solution": false,
     "task": false
    }
   },
   "source": [
    "### Check Python version"
   ]
  },
  {
   "cell_type": "code",
   "execution_count": 3,
   "metadata": {
    "deletable": false,
    "editable": false,
    "nbgrader": {
     "cell_type": "code",
     "checksum": "4a5517d7993b4b35049f0013dd6a3f55",
     "grade": false,
     "grade_id": "cell-2b9c2390ee464c39",
     "locked": true,
     "schema_version": 3,
     "solution": false,
     "task": false
    }
   },
   "outputs": [],
   "source": [
    "from platform import python_version_tuple\n",
    "assert python_version_tuple()[:2] == ('3','7'), \"You are not running Python 3.7. Make sure to run Python through the course Conda environment.\""
   ]
  },
  {
   "cell_type": "markdown",
   "metadata": {
    "deletable": false,
    "editable": false,
    "nbgrader": {
     "cell_type": "markdown",
     "checksum": "15ec4309f1e85f6e17bda73b9b6f48a2",
     "grade": false,
     "grade_id": "cell-4869b45600ce82f8",
     "locked": true,
     "schema_version": 3,
     "solution": false,
     "task": false
    }
   },
   "source": [
    "### Check that notebook server has access to all required resources, and that notebook has not moved"
   ]
  },
  {
   "cell_type": "code",
   "execution_count": 4,
   "metadata": {
    "deletable": false,
    "editable": false,
    "nbgrader": {
     "cell_type": "code",
     "checksum": "a2d199303c73ec86d25177caf39e385f",
     "grade": false,
     "grade_id": "cell-122ac3d9100b8afb",
     "locked": true,
     "schema_version": 3,
     "solution": false,
     "task": false
    }
   },
   "outputs": [],
   "source": [
    "import os\n",
    "nb_dirname = os.path.abspath('')\n",
    "assignment_name = os.path.basename(nb_dirname)\n",
    "assert assignment_name in ['IHA1', 'IHA2', 'HA1', 'HA2', 'HA3'], \\\n",
    "    '[ERROR] The notebook appears to have been moved from its original directory'"
   ]
  },
  {
   "cell_type": "markdown",
   "metadata": {
    "deletable": false,
    "editable": false,
    "nbgrader": {
     "cell_type": "markdown",
     "checksum": "f09f40b5350db83232189137c550f0a1",
     "grade": false,
     "grade_id": "cell-2455deee513cd39c",
     "locked": true,
     "schema_version": 3,
     "solution": false,
     "task": false
    }
   },
   "source": [
    "### Verify correct nb_fname"
   ]
  },
  {
   "cell_type": "code",
   "execution_count": 5,
   "metadata": {
    "deletable": false,
    "editable": false,
    "nbgrader": {
     "cell_type": "code",
     "checksum": "a78c7227b049bb147e6c363affb6dae8",
     "grade": false,
     "grade_id": "cell-0472e2fd710f1d72",
     "locked": true,
     "schema_version": 3,
     "solution": false,
     "task": false
    }
   },
   "outputs": [
    {
     "data": {
      "text/html": [
       "<script>if(\"IHA2.ipynb\" != IPython.notebook.notebook_name) { alert(\"You have filled in nb_fname = \\\"IHA2.ipynb\\\", but this does not seem to match the notebook filename \\\"\" + IPython.notebook.notebook_name + \"\\\".\"); }</script>"
      ],
      "text/plain": [
       "<IPython.core.display.HTML object>"
      ]
     },
     "metadata": {},
     "output_type": "display_data"
    }
   ],
   "source": [
    "from IPython.display import display, HTML\n",
    "try:\n",
    "    display(HTML(r'<script>if(\"{nb_fname}\" != IPython.notebook.notebook_name) {{ alert(\"You have filled in nb_fname = \\\"{nb_fname}\\\", but this does not seem to match the notebook filename \\\"\" + IPython.notebook.notebook_name + \"\\\".\"); }}</script>'.format(nb_fname=nb_fname)))\n",
    "except NameError:\n",
    "    assert False, 'Make sure to fill in the nb_fname variable above!'"
   ]
  },
  {
   "cell_type": "markdown",
   "metadata": {
    "deletable": false,
    "editable": false,
    "nbgrader": {
     "cell_type": "markdown",
     "checksum": "98d88d8e8da19693053764f29dcc591d",
     "grade": false,
     "grade_id": "cell-ceacb1adcae4783d",
     "locked": true,
     "schema_version": 3,
     "solution": false,
     "task": false
    }
   },
   "source": [
    "### Verify that your notebook is up-to-date and not corrupted in any way"
   ]
  },
  {
   "cell_type": "code",
   "execution_count": 6,
   "metadata": {
    "deletable": false,
    "editable": false,
    "nbgrader": {
     "cell_type": "code",
     "checksum": "bb700528d4644601c1a8c91ef1d84635",
     "grade": false,
     "grade_id": "cell-f5a59288e11b4aec",
     "locked": true,
     "schema_version": 3,
     "solution": false,
     "task": false
    }
   },
   "outputs": [
    {
     "name": "stdout",
     "output_type": "stream",
     "text": [
      "Matching current notebook against the following URL:\n",
      "http://raw.githubusercontent.com/JulianoLagana/deep-machine-learning/master/home-assignments/IHA2/IHA2.ipynb\n",
      "[SUCCESS] No major notebook mismatch found when comparing to latest GitHub version. (There might be minor updates, but even that is the case, submitting your work based on this notebook version would be acceptable.)\n"
     ]
    }
   ],
   "source": [
    "import sys\n",
    "sys.path.append('..')\n",
    "from ha_utils import check_notebook_uptodate_and_not_corrupted\n",
    "check_notebook_uptodate_and_not_corrupted(nb_dirname, nb_fname)"
   ]
  },
  {
   "cell_type": "markdown",
   "metadata": {
    "deletable": false,
    "editable": false,
    "nbgrader": {
     "cell_type": "markdown",
     "checksum": "587eb0d471650fb68cb3c1f5021df2d4",
     "grade": false,
     "grade_id": "cell-1420bd2a80dfa7d5",
     "locked": true,
     "schema_version": 3,
     "solution": false
    }
   },
   "source": [
    "# IHA2 - Catching Pokemon"
   ]
  },
  {
   "cell_type": "markdown",
   "metadata": {
    "deletable": false,
    "editable": false,
    "nbgrader": {
     "cell_type": "markdown",
     "checksum": "96205d81b93c5615cfbd5cee3aaaa5df",
     "grade": false,
     "grade_id": "cell-c0cb4dde48293818",
     "locked": true,
     "schema_version": 3,
     "solution": false
    }
   },
   "source": [
    "![](http://tibetanitech.com/wp-content/uploads/2016/09/Pokemon-GO.jpg)"
   ]
  },
  {
   "cell_type": "markdown",
   "metadata": {
    "deletable": false,
    "editable": false,
    "nbgrader": {
     "cell_type": "markdown",
     "checksum": "159f2f40f83f6bb0a266ab45c2e05741",
     "grade": false,
     "grade_id": "cell-b16d667dd74a9079",
     "locked": true,
     "schema_version": 3,
     "solution": false
    }
   },
   "source": [
    "In this home assignment, you'll apply roughly the same principles we used when doing logistic regression on the Iris dataset in Computer Lab 1, but on a new and very interesting dataset. We'll use the [Predict'em All dataset from Kaggle](https://www.kaggle.com/semioniy/predictemall). You can download the dataset from Kaggle but you will need a Kaggle account. This dataset consists of roughly 293,000 [pokemon](http://www.pokemongo.com/) sightings (historical appearances of Pokemon in the Pokemon Go game), with geographical coordinates, time, weather, population density, distance to pokestops/gyms etc. as features. A comprehensive list of all the features is available at [the dataset's homepage](https://www.kaggle.com/semioniy/predictemall)\n",
    "\n",
    "The context is simple: you are a Pokemon hunter, and there are only three Pokemon left for you to complete your collection. You'll do anything to capture them, including changing where you'll spend your next holidays! You know that some Pokemon only spawn in certain places of the world. Since you like machine learning so much, you figure it would be a great idea to train a classifier that, based on a location's latitude and longitude, can tell us which Pokemon is more likely to appear there.\n",
    "\n",
    "The assignment is broken down into six steps.\n",
    "\n",
    "1. Loading the data and extracting the desired subset of it\n",
    "2. Visualization of the dataset\n",
    "3. Preprocessing\n",
    "4. Training\n",
    "5. Evaluation\n",
    "6. Exploration\n",
    "\n",
    "\n",
    "Feel free to add cells wherever you see fit, and play around with this notebook as much as you want when developing the solutions. However, the solution you upload to Canvas must have the exact format shown here, with only the cells present here.\n",
    "\n",
    "Don't restrict yourself only to what was taught so far. Some of the tasks might require you to search for new information. However, **be sure that you do the assignment using PyTorch** since we will be using it through the following assignments as well. [The python docs](https://docs.python.org/3/), [pytorch docs](https://pytorch.org/docs/stable/index.html), [stackoverflow](https://stackoverflow.com/), and Google are your friends!\n",
    "\n",
    "**Hint:** Solving Computer Lab 1 (CL1) is a good way to get prepared for this assignment."
   ]
  },
  {
   "cell_type": "markdown",
   "metadata": {
    "deletable": false,
    "editable": false,
    "nbgrader": {
     "cell_type": "markdown",
     "checksum": "6d8a3b20e9634f5c918019159cde8280",
     "grade": false,
     "grade_id": "cell-b9e4c4aa45490941",
     "locked": true,
     "schema_version": 3,
     "solution": false
    }
   },
   "source": [
    "## 0. Imports"
   ]
  },
  {
   "cell_type": "markdown",
   "metadata": {
    "deletable": false,
    "editable": false,
    "nbgrader": {
     "cell_type": "markdown",
     "checksum": "ca68d5a34a1d6f8633072976fad132a3",
     "grade": false,
     "grade_id": "cell-548d168c5c9e8c39",
     "locked": true,
     "schema_version": 3,
     "solution": false
    }
   },
   "source": [
    "Import any necessary modules here."
   ]
  },
  {
   "cell_type": "code",
   "execution_count": 7,
   "metadata": {
    "deletable": false,
    "nbgrader": {
     "cell_type": "code",
     "checksum": "11dafa1e39d08540e4bfe0939c7f89be",
     "grade": true,
     "grade_id": "cell-4e61b7fa879ef4a1",
     "locked": false,
     "points": 0,
     "schema_version": 3,
     "solution": true
    }
   },
   "outputs": [],
   "source": [
    "# YOUR CODE HERE\n",
    "import torch\n",
    "import torchvision\n",
    "import torchvision.transforms as transforms\n",
    "import numpy as np\n",
    "import matplotlib.pyplot as plt\n",
    "import pandas as pd\n",
    "\n",
    "\n",
    "#To Convolutional Neural Network\n",
    "\n",
    "import torch.nn as nn\n",
    "import torch.nn.functional as F\n",
    "\n",
    "#Define a Loss function and optimizer\n",
    "import torch.optim as optim\n"
   ]
  },
  {
   "cell_type": "markdown",
   "metadata": {
    "deletable": false,
    "editable": false,
    "nbgrader": {
     "cell_type": "markdown",
     "checksum": "a576cdb7f1a3658a7eb906977c5e40fb",
     "grade": false,
     "grade_id": "cell-50c33a3517aea662",
     "locked": true,
     "schema_version": 3,
     "solution": false
    }
   },
   "source": [
    "## 1. Loading and extracting subset"
   ]
  },
  {
   "cell_type": "markdown",
   "metadata": {
    "deletable": false,
    "editable": false,
    "nbgrader": {
     "cell_type": "markdown",
     "checksum": "eec1dd2eea0aeff72a2abe1f2d34dc34",
     "grade": false,
     "grade_id": "cell-32f6c44c22e84d42",
     "locked": true,
     "schema_version": 3,
     "solution": false
    }
   },
   "source": [
    "The first step consists of filtering the dataset by the three pokemon you are interested at. \n",
    "\n",
    "Start by loading the `'300k.csv'` file using pandas. If you haven't downloaded it yet, use [this link](https://www.kaggle.com/semioniy/predictemall) to do so. "
   ]
  },
  {
   "cell_type": "code",
   "execution_count": 8,
   "metadata": {
    "deletable": false,
    "nbgrader": {
     "cell_type": "code",
     "checksum": "8589039ecf22cd99c60f34e31a578011",
     "grade": true,
     "grade_id": "cell-53b2a6c0754fca1d",
     "locked": false,
     "points": 0,
     "schema_version": 3,
     "solution": true
    }
   },
   "outputs": [
    {
     "name": "stderr",
     "output_type": "stream",
     "text": [
      "E:\\anaconda\\envs\\dml\\lib\\site-packages\\IPython\\core\\interactiveshell.py:3441: DtypeWarning: Columns (49) have mixed types.Specify dtype option on import or set low_memory=False.\n",
      "  exec(code_obj, self.user_global_ns, self.user_ns)\n"
     ]
    }
   ],
   "source": [
    "# YOUR CODE HERE\n",
    "\n",
    "df = pd.read_csv(\"300k.csv\")\n"
   ]
  },
  {
   "cell_type": "code",
   "execution_count": 9,
   "metadata": {},
   "outputs": [
    {
     "data": {
      "text/html": [
       "<div>\n",
       "<style scoped>\n",
       "    .dataframe tbody tr th:only-of-type {\n",
       "        vertical-align: middle;\n",
       "    }\n",
       "\n",
       "    .dataframe tbody tr th {\n",
       "        vertical-align: top;\n",
       "    }\n",
       "\n",
       "    .dataframe thead th {\n",
       "        text-align: right;\n",
       "    }\n",
       "</style>\n",
       "<table border=\"1\" class=\"dataframe\">\n",
       "  <thead>\n",
       "    <tr style=\"text-align: right;\">\n",
       "      <th></th>\n",
       "      <th>pokemonId</th>\n",
       "      <th>latitude</th>\n",
       "      <th>longitude</th>\n",
       "      <th>appearedLocalTime</th>\n",
       "      <th>_id</th>\n",
       "      <th>cellId_90m</th>\n",
       "      <th>cellId_180m</th>\n",
       "      <th>cellId_370m</th>\n",
       "      <th>cellId_730m</th>\n",
       "      <th>cellId_1460m</th>\n",
       "      <th>...</th>\n",
       "      <th>cooc_143</th>\n",
       "      <th>cooc_144</th>\n",
       "      <th>cooc_145</th>\n",
       "      <th>cooc_146</th>\n",
       "      <th>cooc_147</th>\n",
       "      <th>cooc_148</th>\n",
       "      <th>cooc_149</th>\n",
       "      <th>cooc_150</th>\n",
       "      <th>cooc_151</th>\n",
       "      <th>class</th>\n",
       "    </tr>\n",
       "  </thead>\n",
       "  <tbody>\n",
       "    <tr>\n",
       "      <th>0</th>\n",
       "      <td>16</td>\n",
       "      <td>20.525745</td>\n",
       "      <td>-97.460829</td>\n",
       "      <td>2016-09-08T03:57:45</td>\n",
       "      <td>NTgxMDkzOTk4MTM5MjUwMjIzNw==</td>\n",
       "      <td>9645139108510564000</td>\n",
       "      <td>9645139108711890000</td>\n",
       "      <td>9645139108443455000</td>\n",
       "      <td>9645139109517197000</td>\n",
       "      <td>9645139113812165000</td>\n",
       "      <td>...</td>\n",
       "      <td>False</td>\n",
       "      <td>False</td>\n",
       "      <td>False</td>\n",
       "      <td>False</td>\n",
       "      <td>False</td>\n",
       "      <td>False</td>\n",
       "      <td>False</td>\n",
       "      <td>False</td>\n",
       "      <td>False</td>\n",
       "      <td>16</td>\n",
       "    </tr>\n",
       "    <tr>\n",
       "      <th>1</th>\n",
       "      <td>133</td>\n",
       "      <td>20.523695</td>\n",
       "      <td>-97.461167</td>\n",
       "      <td>2016-09-08T03:57:37</td>\n",
       "      <td>OTQ1NDgzODc1MjM3NDEzMTI2MQ==</td>\n",
       "      <td>9645139109852742000</td>\n",
       "      <td>9645139109785633000</td>\n",
       "      <td>9645139110590940000</td>\n",
       "      <td>9645139109517197000</td>\n",
       "      <td>9645139113812165000</td>\n",
       "      <td>...</td>\n",
       "      <td>False</td>\n",
       "      <td>False</td>\n",
       "      <td>False</td>\n",
       "      <td>False</td>\n",
       "      <td>False</td>\n",
       "      <td>False</td>\n",
       "      <td>False</td>\n",
       "      <td>False</td>\n",
       "      <td>False</td>\n",
       "      <td>133</td>\n",
       "    </tr>\n",
       "    <tr>\n",
       "      <th>2</th>\n",
       "      <td>16</td>\n",
       "      <td>38.903590</td>\n",
       "      <td>-77.199780</td>\n",
       "      <td>2016-09-08T03:57:25</td>\n",
       "      <td>NTQ0OTQ0NDA1Nzg2ODg3OTg2OQ==</td>\n",
       "      <td>9923201472785285000</td>\n",
       "      <td>9923201472986612000</td>\n",
       "      <td>9923201473791918000</td>\n",
       "      <td>9923201477013144000</td>\n",
       "      <td>9923201481308110000</td>\n",
       "      <td>...</td>\n",
       "      <td>False</td>\n",
       "      <td>False</td>\n",
       "      <td>False</td>\n",
       "      <td>False</td>\n",
       "      <td>False</td>\n",
       "      <td>False</td>\n",
       "      <td>False</td>\n",
       "      <td>False</td>\n",
       "      <td>False</td>\n",
       "      <td>16</td>\n",
       "    </tr>\n",
       "    <tr>\n",
       "      <th>3</th>\n",
       "      <td>13</td>\n",
       "      <td>47.665903</td>\n",
       "      <td>-122.312561</td>\n",
       "      <td>2016-09-08T03:56:22</td>\n",
       "      <td>NTU2MTU1NDM4NzA2MDk1MDcxNw==</td>\n",
       "      <td>6093392705025474600</td>\n",
       "      <td>6093392705092583400</td>\n",
       "      <td>6093392705897889800</td>\n",
       "      <td>6093392702676664300</td>\n",
       "      <td>6093392715561566200</td>\n",
       "      <td>...</td>\n",
       "      <td>False</td>\n",
       "      <td>False</td>\n",
       "      <td>False</td>\n",
       "      <td>False</td>\n",
       "      <td>False</td>\n",
       "      <td>False</td>\n",
       "      <td>False</td>\n",
       "      <td>False</td>\n",
       "      <td>False</td>\n",
       "      <td>13</td>\n",
       "    </tr>\n",
       "    <tr>\n",
       "      <th>4</th>\n",
       "      <td>133</td>\n",
       "      <td>47.666454</td>\n",
       "      <td>-122.311628</td>\n",
       "      <td>2016-09-08T03:56:08</td>\n",
       "      <td>MTY2ODg4MTAzMTczMDE0MTUwNTM=</td>\n",
       "      <td>6093392707709829100</td>\n",
       "      <td>6093392707776938000</td>\n",
       "      <td>6093392708045373400</td>\n",
       "      <td>6093392711266598900</td>\n",
       "      <td>6093392715561566200</td>\n",
       "      <td>...</td>\n",
       "      <td>False</td>\n",
       "      <td>False</td>\n",
       "      <td>False</td>\n",
       "      <td>False</td>\n",
       "      <td>False</td>\n",
       "      <td>False</td>\n",
       "      <td>False</td>\n",
       "      <td>False</td>\n",
       "      <td>False</td>\n",
       "      <td>133</td>\n",
       "    </tr>\n",
       "  </tbody>\n",
       "</table>\n",
       "<p>5 rows × 208 columns</p>\n",
       "</div>"
      ],
      "text/plain": [
       "   pokemonId   latitude   longitude    appearedLocalTime  \\\n",
       "0         16  20.525745  -97.460829  2016-09-08T03:57:45   \n",
       "1        133  20.523695  -97.461167  2016-09-08T03:57:37   \n",
       "2         16  38.903590  -77.199780  2016-09-08T03:57:25   \n",
       "3         13  47.665903 -122.312561  2016-09-08T03:56:22   \n",
       "4        133  47.666454 -122.311628  2016-09-08T03:56:08   \n",
       "\n",
       "                            _id           cellId_90m          cellId_180m  \\\n",
       "0  NTgxMDkzOTk4MTM5MjUwMjIzNw==  9645139108510564000  9645139108711890000   \n",
       "1  OTQ1NDgzODc1MjM3NDEzMTI2MQ==  9645139109852742000  9645139109785633000   \n",
       "2  NTQ0OTQ0NDA1Nzg2ODg3OTg2OQ==  9923201472785285000  9923201472986612000   \n",
       "3  NTU2MTU1NDM4NzA2MDk1MDcxNw==  6093392705025474600  6093392705092583400   \n",
       "4  MTY2ODg4MTAzMTczMDE0MTUwNTM=  6093392707709829100  6093392707776938000   \n",
       "\n",
       "           cellId_370m          cellId_730m         cellId_1460m  ...  \\\n",
       "0  9645139108443455000  9645139109517197000  9645139113812165000  ...   \n",
       "1  9645139110590940000  9645139109517197000  9645139113812165000  ...   \n",
       "2  9923201473791918000  9923201477013144000  9923201481308110000  ...   \n",
       "3  6093392705897889800  6093392702676664300  6093392715561566200  ...   \n",
       "4  6093392708045373400  6093392711266598900  6093392715561566200  ...   \n",
       "\n",
       "   cooc_143  cooc_144 cooc_145  cooc_146  cooc_147 cooc_148  cooc_149  \\\n",
       "0     False     False    False     False     False    False     False   \n",
       "1     False     False    False     False     False    False     False   \n",
       "2     False     False    False     False     False    False     False   \n",
       "3     False     False    False     False     False    False     False   \n",
       "4     False     False    False     False     False    False     False   \n",
       "\n",
       "   cooc_150  cooc_151  class  \n",
       "0     False     False     16  \n",
       "1     False     False    133  \n",
       "2     False     False     16  \n",
       "3     False     False     13  \n",
       "4     False     False    133  \n",
       "\n",
       "[5 rows x 208 columns]"
      ]
     },
     "execution_count": 9,
     "metadata": {},
     "output_type": "execute_result"
    }
   ],
   "source": [
    "df.head()"
   ]
  },
  {
   "cell_type": "markdown",
   "metadata": {
    "deletable": false,
    "editable": false,
    "nbgrader": {
     "cell_type": "markdown",
     "checksum": "02cc9be6a5e73b53096a641dc555acfd",
     "grade": false,
     "grade_id": "cell-5d36e8f9780ea946",
     "locked": true,
     "schema_version": 3,
     "solution": false
    }
   },
   "source": [
    "Create a new `DataFrame` with only the columns `latitude`, `longitude`, and `class`."
   ]
  },
  {
   "cell_type": "code",
   "execution_count": 10,
   "metadata": {
    "deletable": false,
    "nbgrader": {
     "cell_type": "code",
     "checksum": "8f0b7bc21ecc33d1bf75ca430241d758",
     "grade": true,
     "grade_id": "cell-318e20fd02ab7f30",
     "locked": false,
     "points": 0,
     "schema_version": 3,
     "solution": true
    }
   },
   "outputs": [
    {
     "data": {
      "text/plain": [
       "latitude     296021\n",
       "longitude    296021\n",
       "class        296021\n",
       "dtype: int64"
      ]
     },
     "execution_count": 10,
     "metadata": {},
     "output_type": "execute_result"
    }
   ],
   "source": [
    "# YOUR CODE HERE\n",
    "# columns to take out \n",
    "split=['latitude','longitude','class']\n",
    "df_new=df[split]\n",
    "df_new.count()"
   ]
  },
  {
   "cell_type": "markdown",
   "metadata": {
    "deletable": false,
    "editable": false,
    "nbgrader": {
     "cell_type": "markdown",
     "checksum": "f7530aa8a953c622557fd41c3d247318",
     "grade": false,
     "grade_id": "cell-6f7970ff67af4649",
     "locked": true,
     "schema_version": 3,
     "solution": false
    }
   },
   "source": [
    "Note that the `class` column specifies which pokemon it is. However, it only has the numerical id of the pokemon. For convenience, use the following dictionary to convert between ids and names."
   ]
  },
  {
   "cell_type": "code",
   "execution_count": 11,
   "metadata": {
    "deletable": false,
    "editable": false,
    "nbgrader": {
     "cell_type": "code",
     "checksum": "72b742e685899831f4bde270ad99ec38",
     "grade": false,
     "grade_id": "cell-50ff16afeaf933cf",
     "locked": true,
     "schema_version": 3,
     "solution": false
    }
   },
   "outputs": [],
   "source": [
    "name_dict={1: 'Bulbasaur', 2: 'Ivysaur', 3: 'Venusaur', 4: 'Charmander', 5: 'Charmeleon', 6: 'Charizard', 7: 'Squirtle', 8: \n",
    "          'Wartortle', 9: 'Blastoise', 10: 'Caterpie', 11: 'Metapod', 12: 'Butterfree', 13: 'Weedle', 14: 'Kakuna', \n",
    "          15: 'Beedrill', 16: 'Pidgey', 17: 'Pidgeotto', 18: 'Pidgeot', 19: 'Rattata', 20: 'Raticate', 21: 'Spearow',\n",
    "          22: 'Fearow', 23: 'Ekans', 24: 'Arbok', 25: 'Pikachu', 26: 'Raichu', 27: 'Sandshrew', 28: 'Sandslash', \n",
    "          29: 'Nidoran F', 30: 'Nidorina', 31: 'Nidoqueen',32: 'Nidoran M', 33: 'Nidorino', 34: 'Nidoking', 35: 'Clefairy',\n",
    "          36: 'Clefable', 37: 'Vulpix', 38: 'Ninetales', 39: 'Jigglypuff', 40: 'Wigglytuff', 41: 'Zubat', 42: 'Golbat', \n",
    "          43: 'Oddish', 44: 'Gloom', 45: 'Vileplume', 46: 'Paras', 47: 'Parasect', 48: 'Venonat', 49: 'Venomoth',\n",
    "          50: 'Diglett', 51: 'Dugtrio', 52: 'Meowth', 53: 'Persian', 54: 'Psyduck',55: 'Golduck', 56: 'Mankey', \n",
    "          57: 'Primeape', 58: 'Growlithe', 59: 'Arcanine', 60: 'Poliwag', 61: 'Poliwhirl', 62: 'Poliwrath',\n",
    "          63: 'Abra', 64: 'Kadabra', 65: 'Alakazam', 66: 'Machop', 67: 'Machoke', 68: 'Machamp', 69: 'Bellsprout', \n",
    "          70: 'Weepinbell', 71: 'Victreebel', 72: 'Tentacool', 73: 'Tentacruel', 74: 'Geodude', 75: 'Graveler',\n",
    "          76: 'Golem', 77: 'Ponyta', 78: 'Rapidash', 79: 'Slowpoke', 80: 'Slowbro', 81: 'Magnemite', 82: 'Magneton',\n",
    "          83: \"Farfetch'd\", 84: 'Doduo', 85: 'Dodrio', 86: 'Seel', 87: 'Dewgong', 88: 'Grimer', 89: 'Muk', \n",
    "          90: 'Shellder', 91: 'Cloyster', 92: 'Gastly', 93: 'Haunter', 94: 'Gengar', 95: 'Onix', 96: 'Drowzee',\n",
    "          97: 'Hypno', 98: 'Krabby', 99: 'Kingler', 100: 'Voltorb', 101: 'Electrode', 102: 'Exeggcute', 103: 'Exeggutor', \n",
    "          104: 'Cubone', 105: 'Marowak', 106: 'Hitmonlee', 107: 'Hitmonchan', 108: 'Lickitung', 109: 'Koffing',\n",
    "          110: 'Weezing', 111: 'Rhyhorn', 112: 'Rhydon', 113: 'Chansey', 114: 'Tangela', 115: 'Kangaskhan', 116: 'Horsea', \n",
    "          117: 'Seadra', 118: 'Goldeen', 119: 'Seaking', 120: 'Staryu', 121: 'Starmie', 122: 'Mr. Mime', 123: 'Scyther', \n",
    "          124: 'Jynx', 125: 'Electabuzz', 126: 'Magmar', 127: 'Pinsir', 128: 'Tauros', 129: 'Magikarp', 130: 'Gyarados', \n",
    "          131: 'Lapras', 132: 'Ditto', 133: 'Eevee', 134: 'Vaporeon', 135: 'Jolteon', 136: 'Flareon', 137: 'Porygon', \n",
    "          138: 'Omanyte', 139: 'Omastar', 140: 'Kabuto', 141: 'Kabutops', 142: 'Aerodactyl', 143: 'Snorlax', 144: 'Articuno',\n",
    "          145: 'Zapdos', 146: 'Moltres', 147: 'Dratini', 148: 'Dragonair', 149: 'Dragonite', 150: 'Mewtwo', 'Bulbasaur': 1, 'Ivysaur': 2, 'Venusaur': 3, 'Charmander': 4, 'Charmeleon': 5, 'Charizard': 6, 'Squirtle': 7, 'Wartortle': 8, 'Blastoise': 9, 'Caterpie': 10, 'Metapod': 11, 'Butterfree': 12, 'Weedle': 13, 'Kakuna': 14, 'Beedrill': 15, 'Pidgey': 16, 'Pidgeotto': 17, 'Pidgeot': 18, 'Rattata': 19, 'Raticate': 20, 'Spearow': 21, 'Fearow': 22, 'Ekans': 23, 'Arbok': 24, 'Pikachu': 25, 'Raichu': 26, 'Sandshrew': 27, 'Sandslash': 28, 'Nidoran F': 29, 'Nidorina': 30, 'Nidoqueen': 31, 'Nidoran M': 32, 'Nidorino': 33, 'Nidoking': 34, 'Clefairy': 35, 'Clefable': 36, 'Vulpix': 37, 'Ninetales': 38, 'Jigglypuff': 39, 'Wigglytuff': 40, 'Zubat': 41, 'Golbat': 42, 'Oddish': 43, 'Gloom': 44, 'Vileplume': 45, 'Paras': 46, 'Parasect': 47, 'Venonat': 48, 'Venomoth': 49, 'Diglett': 50, 'Dugtrio': 51, 'Meowth': 52, 'Persian': 53, 'Psyduck': 54, 'Golduck': 55, 'Mankey': 56, 'Primeape': 57, 'Growlithe': 58, 'Arcanine': 59, 'Poliwag': 60, 'Poliwhirl': 61, 'Poliwrath': 62, 'Abra': 63, 'Kadabra': 64, 'Alakazam': 65, 'Machop': 66, 'Machoke': 67, 'Machamp': 68, 'Bellsprout': 69, 'Weepinbell': 70, 'Victreebel': 71, 'Tentacool': 72, 'Tentacruel': 73, 'Geodude': 74, 'Graveler': 75, 'Golem': 76, 'Ponyta': 77, 'Rapidash': 78, 'Slowpoke': 79, 'Slowbro': 80, 'Magnemite': 81, 'Magneton': 82, 'Farfetch\\'d': 83, 'Doduo': 84, 'Dodrio': 85, 'Seel': 86, 'Dewgong': 87, 'Grimer': 88, 'Muk': 89, 'Shellder': 90, 'Cloyster': 91, 'Gastly': 92, 'Haunter': 93, 'Gengar': 94, 'Onix': 95, 'Drowzee': 96, 'Hypno': 97, 'Krabby': 98, 'Kingler': 99, 'Voltorb': 100, 'Electrode': 101, 'Exeggcute': 102, 'Exeggutor': 103, 'Cubone': 104, 'Marowak': 105, 'Hitmonlee': 106, 'Hitmonchan': 107, 'Lickitung': 108, 'Koffing': 109, 'Weezing': 110, 'Rhyhorn': 111, 'Rhydon': 112, 'Chansey': 113, 'Tangela': 114, 'Kangaskhan': 115, 'Horsea': 116, 'Seadra': 117, 'Goldeen': 118, 'Seaking': 119, 'Staryu': 120, 'Starmie': 121, 'Mr. Mime': 122, 'Scyther': 123, 'Jynx': 124, 'Electabuzz': 125, 'Magmar': 126, 'Pinsir': 127, 'Tauros': 128, 'Magikarp': 129, 'Gyarados': 130, 'Lapras': 131, 'Ditto': 132, 'Eevee': 133, 'Vaporeon': 134, 'Jolteon': 135, 'Flareon': 136, 'Porygon': 137, 'Omanyte': 138, 'Omastar': 139, 'Kabuto': 140, 'Kabutops': 141, 'Aerodactyl': 142, 'Snorlax': 143, 'Articuno': 144, 'Zapdos': 145, 'Moltres': 146, 'Dratini': 147, 'Dragonair': 148, 'Dragonite': 149, 'Mewtwo': 150}"
   ]
  },
  {
   "cell_type": "code",
   "execution_count": 12,
   "metadata": {},
   "outputs": [
    {
     "name": "stdout",
     "output_type": "stream",
     "text": [
      "94\n",
      "Gengar\n"
     ]
    }
   ],
   "source": [
    "# example usage (you can index either by name or id)\n",
    "print(name_dict['Gengar'])\n",
    "print(name_dict[94])"
   ]
  },
  {
   "cell_type": "markdown",
   "metadata": {
    "deletable": false,
    "editable": false,
    "nbgrader": {
     "cell_type": "markdown",
     "checksum": "09025bb17628db2a36bb21a5b3b6f1c5",
     "grade": false,
     "grade_id": "cell-eaa874b93b3b727c",
     "locked": true,
     "schema_version": 3,
     "solution": false
    }
   },
   "source": [
    "We are only interested in three specific pokemon: Diglett, Seel, and Tauros."
   ]
  },
  {
   "cell_type": "markdown",
   "metadata": {
    "deletable": false,
    "editable": false,
    "nbgrader": {
     "cell_type": "markdown",
     "checksum": "fb13900e729b707cf81097f3e28c10c1",
     "grade": false,
     "grade_id": "cell-7e0898a53c5649b0",
     "locked": true,
     "schema_version": 3,
     "solution": false
    }
   },
   "source": [
    "<table style=\"width:100%\">\n",
    "  <tr>\n",
    "    <th> <center>Diglett</center> </th>\n",
    "    <th> <center>Seel</center> </th> \n",
    "    <th> <center>Tauros</center> </th>\n",
    "  </tr>\n",
    "  <tr>\n",
    "    <td><img src=https://assets.pokemon.com/assets/cms2/img/pokedex/full/050_f2.png alt=Digglet></td>\n",
    "    <td><img src=https://pokemon.gamepedia.com/media/pokemon.gamepedia.com/thumb/f/f1/Seel.png/200px-Seel.png?version=2c32fbe0af2d0da707e5dbcb40472fbf></td>\n",
    "    <td><img src=https://vignette2.wikia.nocookie.net/pokemon/images/0/01/128Tauros_AG_anime.png/revision/latest?cb=20140924030616></td>\n",
    "  </tr>\n",
    "</table>\n",
    "\n"
   ]
  },
  {
   "cell_type": "markdown",
   "metadata": {
    "deletable": false,
    "editable": false,
    "nbgrader": {
     "cell_type": "markdown",
     "checksum": "d75af489f3c30c9763ec9adca054e035",
     "grade": false,
     "grade_id": "cell-d091927bf7d7938f",
     "locked": true,
     "schema_version": 3,
     "solution": false
    }
   },
   "source": [
    "Filter the dataset to contain only these pokemon."
   ]
  },
  {
   "cell_type": "code",
   "execution_count": 13,
   "metadata": {
    "deletable": false,
    "nbgrader": {
     "cell_type": "code",
     "checksum": "06fdbff28605ca63c20d4e87e2192a12",
     "grade": true,
     "grade_id": "cell-7089f3397cbc1f4a",
     "locked": false,
     "points": 0,
     "schema_version": 3,
     "solution": true
    }
   },
   "outputs": [
    {
     "data": {
      "text/plain": [
       "latitude     2083\n",
       "longitude    2083\n",
       "class        2083\n",
       "dtype: int64"
      ]
     },
     "execution_count": 13,
     "metadata": {},
     "output_type": "execute_result"
    }
   ],
   "source": [
    "# YOUR CODE HERE\n",
    "Diglett_number=name_dict['Diglett']\n",
    "Seel_number=name_dict['Seel']\n",
    "Tauros_number=name_dict['Tauros']\n",
    "loaded_data=df_new[df_new['class'].isin([Diglett_number, Seel_number,Tauros_number])]\n",
    "loaded_data.count()"
   ]
  },
  {
   "cell_type": "code",
   "execution_count": 14,
   "metadata": {},
   "outputs": [
    {
     "data": {
      "text/html": [
       "<div>\n",
       "<style scoped>\n",
       "    .dataframe tbody tr th:only-of-type {\n",
       "        vertical-align: middle;\n",
       "    }\n",
       "\n",
       "    .dataframe tbody tr th {\n",
       "        vertical-align: top;\n",
       "    }\n",
       "\n",
       "    .dataframe thead th {\n",
       "        text-align: right;\n",
       "    }\n",
       "</style>\n",
       "<table border=\"1\" class=\"dataframe\">\n",
       "  <thead>\n",
       "    <tr style=\"text-align: right;\">\n",
       "      <th></th>\n",
       "      <th>latitude</th>\n",
       "      <th>longitude</th>\n",
       "      <th>class</th>\n",
       "    </tr>\n",
       "  </thead>\n",
       "  <tbody>\n",
       "    <tr>\n",
       "      <th>90</th>\n",
       "      <td>49.146199</td>\n",
       "      <td>-122.638105</td>\n",
       "      <td>50</td>\n",
       "    </tr>\n",
       "    <tr>\n",
       "      <th>137</th>\n",
       "      <td>44.476769</td>\n",
       "      <td>-73.212749</td>\n",
       "      <td>128</td>\n",
       "    </tr>\n",
       "    <tr>\n",
       "      <th>225</th>\n",
       "      <td>39.767486</td>\n",
       "      <td>-86.161068</td>\n",
       "      <td>128</td>\n",
       "    </tr>\n",
       "    <tr>\n",
       "      <th>550</th>\n",
       "      <td>49.999197</td>\n",
       "      <td>9.066973</td>\n",
       "      <td>86</td>\n",
       "    </tr>\n",
       "    <tr>\n",
       "      <th>629</th>\n",
       "      <td>25.724382</td>\n",
       "      <td>-100.379311</td>\n",
       "      <td>50</td>\n",
       "    </tr>\n",
       "    <tr>\n",
       "      <th>...</th>\n",
       "      <td>...</td>\n",
       "      <td>...</td>\n",
       "      <td>...</td>\n",
       "    </tr>\n",
       "    <tr>\n",
       "      <th>294822</th>\n",
       "      <td>34.190725</td>\n",
       "      <td>-118.490821</td>\n",
       "      <td>128</td>\n",
       "    </tr>\n",
       "    <tr>\n",
       "      <th>294909</th>\n",
       "      <td>34.189895</td>\n",
       "      <td>-118.490000</td>\n",
       "      <td>86</td>\n",
       "    </tr>\n",
       "    <tr>\n",
       "      <th>295194</th>\n",
       "      <td>53.555035</td>\n",
       "      <td>-0.087039</td>\n",
       "      <td>86</td>\n",
       "    </tr>\n",
       "    <tr>\n",
       "      <th>295436</th>\n",
       "      <td>34.186898</td>\n",
       "      <td>-118.488905</td>\n",
       "      <td>86</td>\n",
       "    </tr>\n",
       "    <tr>\n",
       "      <th>295529</th>\n",
       "      <td>39.748243</td>\n",
       "      <td>-84.086557</td>\n",
       "      <td>128</td>\n",
       "    </tr>\n",
       "  </tbody>\n",
       "</table>\n",
       "<p>2083 rows × 3 columns</p>\n",
       "</div>"
      ],
      "text/plain": [
       "         latitude   longitude  class\n",
       "90      49.146199 -122.638105     50\n",
       "137     44.476769  -73.212749    128\n",
       "225     39.767486  -86.161068    128\n",
       "550     49.999197    9.066973     86\n",
       "629     25.724382 -100.379311     50\n",
       "...           ...         ...    ...\n",
       "294822  34.190725 -118.490821    128\n",
       "294909  34.189895 -118.490000     86\n",
       "295194  53.555035   -0.087039     86\n",
       "295436  34.186898 -118.488905     86\n",
       "295529  39.748243  -84.086557    128\n",
       "\n",
       "[2083 rows x 3 columns]"
      ]
     },
     "execution_count": 14,
     "metadata": {},
     "output_type": "execute_result"
    }
   ],
   "source": [
    "loaded_data"
   ]
  },
  {
   "cell_type": "code",
   "execution_count": 15,
   "metadata": {},
   "outputs": [],
   "source": [
    "Tauros=df_new[df_new['class'].isin([Tauros_number])]\n",
    "Tauros_data=Tauros[['class']]\n",
    "Seel=df_new[df_new['class'].isin([Seel_number])]\n",
    "Seel_data=Seel[['class']]\n",
    "Diglett=df_new[df_new['class'].isin([Diglett_number])]\n",
    "Diglett_data=Diglett[['class']]\n",
    "\n"
   ]
  },
  {
   "cell_type": "code",
   "execution_count": 16,
   "metadata": {},
   "outputs": [],
   "source": [
    "#three=df_new[df_new['class'].isin([Diglett,Tauros,Seel])]"
   ]
  },
  {
   "cell_type": "code",
   "execution_count": 17,
   "metadata": {},
   "outputs": [],
   "source": [
    "#three"
   ]
  },
  {
   "cell_type": "code",
   "execution_count": 18,
   "metadata": {},
   "outputs": [
    {
     "name": "stdout",
     "output_type": "stream",
     "text": [
      "class    670\n",
      "dtype: int64\n",
      "class    692\n",
      "dtype: int64\n",
      "class    721\n",
      "dtype: int64\n"
     ]
    }
   ],
   "source": [
    "print(Tauros_data.count())\n",
    "print(Seel_data.count())\n",
    "print(Diglett_data.count())"
   ]
  },
  {
   "cell_type": "markdown",
   "metadata": {
    "deletable": false,
    "editable": false,
    "nbgrader": {
     "cell_type": "markdown",
     "checksum": "2641774ea6d909844fb9d2e930763382",
     "grade": false,
     "grade_id": "cell-01b988bb1bfa1f92",
     "locked": true,
     "schema_version": 3,
     "solution": false
    }
   },
   "source": [
    "## 2. Visualization of the dataset"
   ]
  },
  {
   "cell_type": "markdown",
   "metadata": {
    "deletable": false,
    "editable": false,
    "nbgrader": {
     "cell_type": "markdown",
     "checksum": "0c94c9d33c3a6aebede69f250fec7974",
     "grade": false,
     "grade_id": "cell-5c7b8fdcd18575fe",
     "locked": true,
     "schema_version": 3,
     "solution": false
    }
   },
   "source": [
    "The second step consists of visualizing the dataset. This will help you understand the distribution of the features and get an idea of how hard the task will be.\n",
    "\n",
    "Plot a histogram of the number of occurrences of each class."
   ]
  },
  {
   "cell_type": "code",
   "execution_count": 19,
   "metadata": {
    "deletable": false,
    "nbgrader": {
     "cell_type": "code",
     "checksum": "b9b6048c83c3f3f72c51e4baa47b141b",
     "grade": true,
     "grade_id": "cell-c1a9921488e42992",
     "locked": false,
     "points": 0,
     "schema_version": 3,
     "solution": true
    }
   },
   "outputs": [
    {
     "data": {
      "image/png": "[encoded data removed]",
      "text/plain": [
       "<Figure size 432x288 with 1 Axes>"
      ]
     },
     "metadata": {
      "needs_background": "light"
     },
     "output_type": "display_data"
    }
   ],
   "source": [
    "# YOUR CODE HEREl\n",
    "\n",
    "\n",
    "\n",
    "\n",
    "plt.hist(Diglett_data,bins=10 ,color='red',label='Diglett')\n",
    "\n",
    "plt.gca().set(title='Probability Histogram of Digletts', ylabel='Frequency')\n",
    "\n",
    "plt.legend();\n",
    "\n",
    "\n",
    "\n"
   ]
  },
  {
   "cell_type": "code",
   "execution_count": 20,
   "metadata": {},
   "outputs": [
    {
     "data": {
      "image/png": "[encoded data removed]",
      "text/plain": [
       "<Figure size 432x288 with 1 Axes>"
      ]
     },
     "metadata": {
      "needs_background": "light"
     },
     "output_type": "display_data"
    }
   ],
   "source": [
    "plt.hist(Seel_data,bins=10,color='blue' ,label='Seel')\n",
    "plt.gca().set(title='Probability Histogram of Seel',ylabel='Frequency')\n",
    "\n",
    "plt.legend();\n"
   ]
  },
  {
   "cell_type": "code",
   "execution_count": null,
   "metadata": {},
   "outputs": [],
   "source": []
  },
  {
   "cell_type": "code",
   "execution_count": 21,
   "metadata": {},
   "outputs": [
    {
     "data": {
      "image/png": "[encoded data removed]",
      "text/plain": [
       "<Figure size 432x288 with 1 Axes>"
      ]
     },
     "metadata": {
      "needs_background": "light"
     },
     "output_type": "display_data"
    }
   ],
   "source": [
    "plt.hist(Tauros_data,bins=10,color='green',label='Tauros')\n",
    "plt.gca().set(title='Probability Histogram of Tauros', ylabel='Frequency')\n",
    "plt.legend();\n"
   ]
  },
  {
   "cell_type": "code",
   "execution_count": null,
   "metadata": {},
   "outputs": [],
   "source": []
  },
  {
   "cell_type": "markdown",
   "metadata": {
    "deletable": false,
    "editable": false,
    "nbgrader": {
     "cell_type": "markdown",
     "checksum": "8db3801153d88faae486675872d25de6",
     "grade": false,
     "grade_id": "cell-c22d835bdc58fe68",
     "locked": true,
     "schema_version": 3,
     "solution": false
    }
   },
   "source": [
    "Is the dataset balanced?"
   ]
  },
  {
   "cell_type": "markdown",
   "metadata": {
    "deletable": false,
    "nbgrader": {
     "cell_type": "markdown",
     "checksum": "c918f9b5d190f5f83c8dbd622e59d062",
     "grade": true,
     "grade_id": "cell-3d060bda26842b5d",
     "locked": false,
     "points": 0,
     "schema_version": 3,
     "solution": true
    }
   },
   "source": [
    "**Your answer:** (fill in here)\n",
    "_______________________________________________________________________________________________________________________________\n",
    "\n",
    "**The data set is almost well balanced because the no of occurency/Frequency of the three specific pokemon: Diglett, Seel, and Tauros are 670,692 and 721. If we see these distribution, ti almost looks like a same and with some difference in the height of the histogram**\n",
    "\n",
    "_______________________________________________________________________________________________________________________________\n"
   ]
  },
  {
   "cell_type": "markdown",
   "metadata": {
    "deletable": false,
    "editable": false,
    "nbgrader": {
     "cell_type": "markdown",
     "checksum": "1a7596c973fa0cb79ea1edb2d99fd2d3",
     "grade": false,
     "grade_id": "cell-931cbd9e3ec95da5",
     "locked": true,
     "schema_version": 3,
     "solution": false
    }
   },
   "source": [
    "Plot a scatter plot where the first dimension is latitude, the second is longitude, and each point is a Pokemon. Further, the color of each point should represent which Pokemon it is. Lastly, the marker at each point should be an `'x'`. Make sure to label each axis.\n",
    "\n",
    "Hints:\n",
    "\n",
    "- The `scatter` method from `matplotlib` accepts an argument called `c`.\n",
    "- The `scatter` method also accepts an argument called `marker`."
   ]
  },
  {
   "cell_type": "code",
   "execution_count": 22,
   "metadata": {
    "deletable": false,
    "nbgrader": {
     "cell_type": "code",
     "checksum": "f6f749d2605a9f0d0ae2dff5d584d414",
     "grade": true,
     "grade_id": "cell-1120bd5aa8abeae1",
     "locked": false,
     "points": 0,
     "schema_version": 3,
     "solution": true
    }
   },
   "outputs": [
    {
     "data": {
      "text/plain": [
       "Text(0, 0.5, 'longitude')"
      ]
     },
     "execution_count": 22,
     "metadata": {},
     "output_type": "execute_result"
    },
    {
     "data": {
      "image/png": "[encoded data removed]",
      "text/plain": [
       "<Figure size 720x576 with 1 Axes>"
      ]
     },
     "metadata": {
      "needs_background": "light"
     },
     "output_type": "display_data"
    }
   ],
   "source": [
    "# YOUR CODE HERE\n",
    "\n",
    "fig, ax = plt.subplots(figsize=(10,8))\n",
    "\n",
    "# Scatter for Diglett\n",
    "ax.scatter(Diglett['latitude'],Diglett['longitude'], color = \"r\", marker = \"x\", label = \"Diglett\")\n",
    "# Scatter for Tauros\n",
    "ax.scatter(Tauros['latitude'],Tauros['longitude'], color = \"k\", marker = \"+\", label = \"Tauros\")\n",
    "# Scatter for Seel\n",
    "ax.scatter(Seel['latitude'],Seel['longitude'], color = \"b\", marker = \"o\", label = \"Seel\")\n",
    "\n",
    "ax.legend()\n",
    "ax.set_xlabel(\"latitude\")\n",
    "ax.set_ylabel(\"longitude\")"
   ]
  },
  {
   "cell_type": "markdown",
   "metadata": {
    "deletable": false,
    "editable": false,
    "nbgrader": {
     "cell_type": "markdown",
     "checksum": "4de0c3f04f14adb2cdc7c5e9f76fb154",
     "grade": false,
     "grade_id": "cell-76f326a05bf22e09",
     "locked": true,
     "schema_version": 3,
     "solution": false
    }
   },
   "source": [
    "Is there any other visualization you think would be useful? If so, insert it here."
   ]
  },
  {
   "cell_type": "markdown",
   "metadata": {
    "collapsed": true,
    "deletable": false,
    "nbgrader": {
     "cell_type": "markdown",
     "checksum": "64654035bfe7ce53e421145357db4667",
     "grade": true,
     "grade_id": "cell-86724bfd3955c5ed",
     "locked": false,
     "points": 0,
     "schema_version": 3,
     "solution": true
    }
   },
   "source": [
    "**Your answer:** (fill in here)\n",
    "\n"
   ]
  },
  {
   "cell_type": "code",
   "execution_count": 23,
   "metadata": {},
   "outputs": [
    {
     "data": {
      "text/html": [
       "<div>\n",
       "<style scoped>\n",
       "    .dataframe tbody tr th:only-of-type {\n",
       "        vertical-align: middle;\n",
       "    }\n",
       "\n",
       "    .dataframe tbody tr th {\n",
       "        vertical-align: top;\n",
       "    }\n",
       "\n",
       "    .dataframe thead th {\n",
       "        text-align: right;\n",
       "    }\n",
       "</style>\n",
       "<table border=\"1\" class=\"dataframe\">\n",
       "  <thead>\n",
       "    <tr style=\"text-align: right;\">\n",
       "      <th></th>\n",
       "      <th>latitude</th>\n",
       "      <th>longitude</th>\n",
       "      <th>class</th>\n",
       "    </tr>\n",
       "  </thead>\n",
       "  <tbody>\n",
       "    <tr>\n",
       "      <th>90</th>\n",
       "      <td>49.146199</td>\n",
       "      <td>-122.638105</td>\n",
       "      <td>50</td>\n",
       "    </tr>\n",
       "    <tr>\n",
       "      <th>137</th>\n",
       "      <td>44.476769</td>\n",
       "      <td>-73.212749</td>\n",
       "      <td>128</td>\n",
       "    </tr>\n",
       "    <tr>\n",
       "      <th>225</th>\n",
       "      <td>39.767486</td>\n",
       "      <td>-86.161068</td>\n",
       "      <td>128</td>\n",
       "    </tr>\n",
       "    <tr>\n",
       "      <th>629</th>\n",
       "      <td>25.724382</td>\n",
       "      <td>-100.379311</td>\n",
       "      <td>50</td>\n",
       "    </tr>\n",
       "    <tr>\n",
       "      <th>977</th>\n",
       "      <td>43.708274</td>\n",
       "      <td>-79.399741</td>\n",
       "      <td>128</td>\n",
       "    </tr>\n",
       "    <tr>\n",
       "      <th>...</th>\n",
       "      <td>...</td>\n",
       "      <td>...</td>\n",
       "      <td>...</td>\n",
       "    </tr>\n",
       "    <tr>\n",
       "      <th>294322</th>\n",
       "      <td>49.158007</td>\n",
       "      <td>-123.016853</td>\n",
       "      <td>128</td>\n",
       "    </tr>\n",
       "    <tr>\n",
       "      <th>294438</th>\n",
       "      <td>26.237014</td>\n",
       "      <td>-98.195712</td>\n",
       "      <td>50</td>\n",
       "    </tr>\n",
       "    <tr>\n",
       "      <th>294447</th>\n",
       "      <td>36.810507</td>\n",
       "      <td>-119.854716</td>\n",
       "      <td>50</td>\n",
       "    </tr>\n",
       "    <tr>\n",
       "      <th>294822</th>\n",
       "      <td>34.190725</td>\n",
       "      <td>-118.490821</td>\n",
       "      <td>128</td>\n",
       "    </tr>\n",
       "    <tr>\n",
       "      <th>295529</th>\n",
       "      <td>39.748243</td>\n",
       "      <td>-84.086557</td>\n",
       "      <td>128</td>\n",
       "    </tr>\n",
       "  </tbody>\n",
       "</table>\n",
       "<p>1391 rows × 3 columns</p>\n",
       "</div>"
      ],
      "text/plain": [
       "         latitude   longitude  class\n",
       "90      49.146199 -122.638105     50\n",
       "137     44.476769  -73.212749    128\n",
       "225     39.767486  -86.161068    128\n",
       "629     25.724382 -100.379311     50\n",
       "977     43.708274  -79.399741    128\n",
       "...           ...         ...    ...\n",
       "294322  49.158007 -123.016853    128\n",
       "294438  26.237014  -98.195712     50\n",
       "294447  36.810507 -119.854716     50\n",
       "294822  34.190725 -118.490821    128\n",
       "295529  39.748243  -84.086557    128\n",
       "\n",
       "[1391 rows x 3 columns]"
      ]
     },
     "execution_count": 23,
     "metadata": {},
     "output_type": "execute_result"
    }
   ],
   "source": [
    "vis_data=df_new[df_new['class'].isin([Diglett_number, Seel,Tauros_number])]\n",
    "#df_new\n",
    "vis_data"
   ]
  },
  {
   "cell_type": "code",
   "execution_count": 25,
   "metadata": {},
   "outputs": [],
   "source": [
    "vis_data2=vis_data\n",
    "# .drop(columns=['label'])"
   ]
  },
  {
   "cell_type": "code",
   "execution_count": 26,
   "metadata": {
    "scrolled": false
   },
   "outputs": [
    {
     "data": {
      "image/png": "[encoded data removed]",
      "text/plain": [
       "<Figure size 415.125x360 with 6 Axes>"
      ]
     },
     "metadata": {
      "needs_background": "light"
     },
     "output_type": "display_data"
    }
   ],
   "source": [
    "\n",
    "import seaborn as sns\n",
    "sns.pairplot(vis_data2, hue='class');\n"
   ]
  },
  {
   "cell_type": "code",
   "execution_count": null,
   "metadata": {},
   "outputs": [],
   "source": []
  },
  {
   "cell_type": "markdown",
   "metadata": {
    "deletable": false,
    "editable": false,
    "nbgrader": {
     "cell_type": "markdown",
     "checksum": "6140988fa08ca186bbe62a74e82ddddd",
     "grade": false,
     "grade_id": "cell-7af3ac7849dc5252",
     "locked": true,
     "schema_version": 3,
     "solution": false
    }
   },
   "source": [
    "How hard do you think the problem is? Which classes can/cannot be easily separated?\n"
   ]
  },
  {
   "cell_type": "markdown",
   "metadata": {
    "deletable": false,
    "nbgrader": {
     "cell_type": "markdown",
     "checksum": "6bb25f67d0cf2e55d60f2b63646ce9fe",
     "grade": true,
     "grade_id": "cell-62e50deb2cca74b2",
     "locked": false,
     "points": 0,
     "schema_version": 3,
     "solution": true
    }
   },
   "source": [
    "**Your answer:** (fill in here)\n",
    "\n",
    "_______________________________________________________________________________________________________________________________\n",
    "\n",
    "**I think the problem is bit hard and difficult to visualize the 3 different classes of pokemon. Because the pokemon Tauros made as a cluster in the bottom right corner and the pokemon seel has it's most of the cluster in one place and some with the Tauros cluster.But if we see the pokemon Diglett, it has its clusters mingled with the other 2 pokemons steel and Tauros. So,it's difficult to visual this problem to find out the single prokemon and I believe it will lead to the over fitting of our neural networks in future**\n",
    "\n",
    "_______________________________________________________________________________________________________________________________\n"
   ]
  },
  {
   "cell_type": "markdown",
   "metadata": {
    "deletable": false,
    "editable": false,
    "nbgrader": {
     "cell_type": "markdown",
     "checksum": "9e6bfdd82abab0b61a471c52bfc9dff3",
     "grade": false,
     "grade_id": "cell-3d322369934aa289",
     "locked": true,
     "schema_version": 3,
     "solution": false
    }
   },
   "source": [
    "Which accuracy do you expect to achieve?"
   ]
  },
  {
   "cell_type": "markdown",
   "metadata": {
    "deletable": false,
    "nbgrader": {
     "cell_type": "markdown",
     "checksum": "931b0e510dcc8867fb3efb7e50fe8a25",
     "grade": true,
     "grade_id": "cell-f2c255ad5dd7e5fc",
     "locked": false,
     "points": 0,
     "schema_version": 3,
     "solution": true
    }
   },
   "source": [
    "**Your answer:** (fill in here)\n",
    "\n",
    "_______________________________________________________________________________________________________________________________\n",
    "\n",
    "**From the above discussion, we can say that the accuracy of the Tauros can be high when comparing with the other 2 pokemans because it's easy to differentiate with other 2 and the accuracy of the seel is better than the Diglett. Because the Diglett was spreaded more than the seel so the accuracy of the Diglett pokeman will be lower**\n",
    "\n",
    "_______________________________________________________________________________________________________________________________\n"
   ]
  },
  {
   "cell_type": "markdown",
   "metadata": {
    "deletable": false,
    "editable": false,
    "nbgrader": {
     "cell_type": "markdown",
     "checksum": "d5510f4a800380ecc156cd9d2f3898e5",
     "grade": false,
     "grade_id": "cell-451e0813fca28b8b",
     "locked": true,
     "schema_version": 3,
     "solution": false
    }
   },
   "source": [
    "## 3. Preprocessing"
   ]
  },
  {
   "cell_type": "markdown",
   "metadata": {
    "deletable": false,
    "editable": false,
    "nbgrader": {
     "cell_type": "markdown",
     "checksum": "6f45a44b8b3c4258219af1a4de0bd143",
     "grade": false,
     "grade_id": "cell-3eed8190495b60ac",
     "locked": true,
     "schema_version": 3,
     "solution": false
    }
   },
   "source": [
    "The third step consists of processing the data before training, such as dividing the dataset into training, validation, and test sets. Some tranformations can also be applied to the dataset in order to improve the performance of the network. \n",
    "\n",
    "Start by creating the input and output vectors."
   ]
  },
  {
   "cell_type": "code",
   "execution_count": 27,
   "metadata": {},
   "outputs": [
    {
     "data": {
      "text/plain": [
       "128"
      ]
     },
     "execution_count": 27,
     "metadata": {},
     "output_type": "execute_result"
    }
   ],
   "source": [
    "Diglett_number=name_dict['Diglett']\n",
    "Seel_number=name_dict['Seel']\n",
    "Tauros_number=name_dict['Tauros']\n",
    "\n",
    "Tauros_number"
   ]
  },
  {
   "cell_type": "code",
   "execution_count": 28,
   "metadata": {
    "deletable": false,
    "nbgrader": {
     "cell_type": "code",
     "checksum": "266ae4cb5f1d572448577f583d04925b",
     "grade": true,
     "grade_id": "cell-c61cb8065babf0c5",
     "locked": false,
     "points": 0,
     "schema_version": 3,
     "solution": true
    }
   },
   "outputs": [
    {
     "name": "stderr",
     "output_type": "stream",
     "text": [
      "E:\\anaconda\\envs\\dml\\lib\\site-packages\\ipykernel_launcher.py:9: SettingWithCopyWarning: \n",
      "A value is trying to be set on a copy of a slice from a DataFrame.\n",
      "Try using .loc[row_indexer,col_indexer] = value instead\n",
      "\n",
      "See the caveats in the documentation: https://pandas.pydata.org/pandas-docs/stable/user_guide/indexing.html#returning-a-view-versus-a-copy\n",
      "  if __name__ == '__main__':\n",
      "E:\\anaconda\\envs\\dml\\lib\\site-packages\\pandas\\core\\indexing.py:1817: SettingWithCopyWarning: \n",
      "A value is trying to be set on a copy of a slice from a DataFrame.\n",
      "Try using .loc[row_indexer,col_indexer] = value instead\n",
      "\n",
      "See the caveats in the documentation: https://pandas.pydata.org/pandas-docs/stable/user_guide/indexing.html#returning-a-view-versus-a-copy\n",
      "  self._setitem_single_column(loc, value, pi)\n"
     ]
    }
   ],
   "source": [
    "# YOUR CODE HERE\n",
    "\n",
    "# before we split the dataset, we have to create the output label for the 3 classes\n",
    "#Diglett-->0\n",
    "#Seel-->1 \n",
    "#Tauros--> 2\n",
    "\n",
    "# creating a empty data series for label\n",
    "df_new['label'] =  pd.DataFrame({'label' : []})\n",
    "\n",
    "df_new.loc[df_new['class'] == Diglett_number, 'label'] = 0 #if the pokemon is Diglett then label is 0\n",
    "df_new.loc[df_new['class'] == Seel_number, 'label'] = 1 #if the pokemon is Seel then label is 1\n",
    "df_new.loc[df_new['class'] == Tauros_number, 'label'] = 2 #if the pokemon is Tauros then label is 2\n",
    "\n",
    "df_new['label']\n",
    "\n",
    "labelled=df_new[df_new['class'].isin([Tauros_number,Seel_number,Diglett_number])]\n"
   ]
  },
  {
   "cell_type": "code",
   "execution_count": 29,
   "metadata": {},
   "outputs": [
    {
     "data": {
      "text/plain": [
       "array([[0.],\n",
       "       [2.],\n",
       "       [2.],\n",
       "       ...,\n",
       "       [1.],\n",
       "       [1.],\n",
       "       [2.]])"
      ]
     },
     "execution_count": 29,
     "metadata": {},
     "output_type": "execute_result"
    }
   ],
   "source": [
    "Xdata = labelled[['latitude','longitude']].values\n",
    "\n",
    "\n",
    "y=labelled[['label']].values\n",
    "Ydata = np.array(list(y))\n",
    "Ydata"
   ]
  },
  {
   "cell_type": "code",
   "execution_count": 30,
   "metadata": {},
   "outputs": [],
   "source": [
    "# Function to map the classes to numbers\n",
    "def encode_PM(PM):\n",
    "    if name_dict[PM] == 'Diglett':\n",
    "        return 0\n",
    "    if name_dict[PM] == 'Seel':\n",
    "        return 1\n",
    "    if name_dict[PM] == 'Tauros':\n",
    "        return 2\n",
    "    else:\n",
    "        raise ValueError('pokemon \\'{}\\' is not recognized.'.format(PM))\n",
    "        \n"
   ]
  },
  {
   "cell_type": "code",
   "execution_count": 31,
   "metadata": {},
   "outputs": [
    {
     "data": {
      "text/plain": [
       "<map at 0x2862a7ae188>"
      ]
     },
     "execution_count": 31,
     "metadata": {},
     "output_type": "execute_result"
    }
   ],
   "source": [
    "\n",
    "\n",
    "\n",
    "temp = map(encode_PM, loaded_data['class'].values)\n",
    "temp"
   ]
  },
  {
   "cell_type": "code",
   "execution_count": 32,
   "metadata": {},
   "outputs": [
    {
     "name": "stdout",
     "output_type": "stream",
     "text": [
      "2083\n"
     ]
    }
   ],
   "source": [
    "Ydata = np.array(list(temp))\n",
    "print(len(Ydata))"
   ]
  },
  {
   "cell_type": "code",
   "execution_count": 33,
   "metadata": {},
   "outputs": [
    {
     "data": {
      "text/plain": [
       "array([0, 2, 2, ..., 1, 1, 2])"
      ]
     },
     "execution_count": 33,
     "metadata": {},
     "output_type": "execute_result"
    }
   ],
   "source": [
    "Ydata"
   ]
  },
  {
   "cell_type": "markdown",
   "metadata": {
    "deletable": false,
    "editable": false,
    "nbgrader": {
     "cell_type": "markdown",
     "checksum": "dad48214b4d12cea9b6bbe326e70fae7",
     "grade": false,
     "grade_id": "cell-566d2f340fa57d49",
     "locked": true,
     "schema_version": 3,
     "solution": false
    }
   },
   "source": [
    "Separate your data into training (55%), validation (25%) and test sets (20%). If you wish to apply any transformation to the dataset, do it here as well. "
   ]
  },
  {
   "cell_type": "code",
   "execution_count": 34,
   "metadata": {
    "deletable": false,
    "nbgrader": {
     "cell_type": "code",
     "checksum": "a23648ec359fa6060da2f7ecd3591f92",
     "grade": true,
     "grade_id": "cell-918e3bb4d74472bd",
     "locked": false,
     "points": 0,
     "schema_version": 3,
     "solution": true
    }
   },
   "outputs": [
    {
     "name": "stdout",
     "output_type": "stream",
     "text": [
      "<class 'numpy.ndarray'>\n"
     ]
    }
   ],
   "source": [
    "# YOUR CODE HERE\n",
    "import torch\n",
    "from torchvision.datasets import ImageFolder\n",
    "from torch.utils.data import Subset\n",
    "from sklearn.model_selection import train_test_split\n",
    "from torchvision.transforms import Compose, ToTensor, Resize\n",
    "from torch.utils.data import DataLoader\n",
    "\n",
    "\n",
    "\n",
    "\n",
    "# Here we have to split the data into train,val and test datas\n",
    "\n",
    "# Split the training data from validate and test set - 55% for the training set\n",
    "Xtrain, Xtest, Ytrain, Ytest = train_test_split(Xdata, Ydata, test_size =0.45, random_state=10)\n",
    "\n",
    "#Split the validation and test set - 25% has validation set and test set has 20% \n",
    "Xvalid, Xtest, Yvalid, Ytest = train_test_split(Xtest, Ytest, test_size = 0.20/0.45, random_state=10)\n",
    "                                                    \n",
    "\n",
    "# Change our data from Numpy arrays to Torch tensors\n",
    "#In order for autograd to work, we first need to change our data from Numpy arrays to Torch tensors.\n",
    "x_train = torch.tensor(Xtrain, dtype=torch.float32)\n",
    "y_train = torch.tensor(Ytrain, dtype=torch.int64)\n",
    "\n",
    "x_val = torch.tensor(Xvalid, dtype=torch.float32)\n",
    "y_val = torch.tensor(Yvalid, dtype=torch.int64)\n",
    "\n",
    "x_test = torch.tensor(Xtest, dtype=torch.float32)\n",
    "y_test = torch.tensor(Ytest, dtype=torch.int64)\n",
    "\n",
    "\n",
    "print(type(Ytrain))"
   ]
  },
  {
   "cell_type": "code",
   "execution_count": 35,
   "metadata": {},
   "outputs": [
    {
     "name": "stdout",
     "output_type": "stream",
     "text": [
      "The length of the total data set is 2083\n",
      "The length of the training set is 1145\n",
      "The length of the Validation set is 521\n",
      "The length of the Test set is 417\n"
     ]
    },
    {
     "data": {
      "text/plain": [
       "torch.Size([417, 2])"
      ]
     },
     "execution_count": 35,
     "metadata": {},
     "output_type": "execute_result"
    }
   ],
   "source": [
    "print('The length of the total data set is',len(Xdata))\n",
    "print('The length of the training set is',len(x_train))\n",
    "print('The length of the Validation set is',len(x_val))\n",
    "print('The length of the Test set is',len(x_test))\n",
    "x_test.shape"
   ]
  },
  {
   "cell_type": "code",
   "execution_count": 36,
   "metadata": {},
   "outputs": [
    {
     "data": {
      "text/plain": [
       "tensor([[  52.1368,   -8.6411],\n",
       "        [  50.0705,   14.4673],\n",
       "        [  49.1460, -122.6410],\n",
       "        ...,\n",
       "        [  40.0302, -105.2675],\n",
       "        [  29.9412,  -90.0689],\n",
       "        [  44.0828, -103.2269]])"
      ]
     },
     "execution_count": 36,
     "metadata": {},
     "output_type": "execute_result"
    }
   ],
   "source": [
    "x_train"
   ]
  },
  {
   "cell_type": "markdown",
   "metadata": {
    "deletable": false,
    "editable": false,
    "nbgrader": {
     "cell_type": "markdown",
     "checksum": "c9b5ffa094240411cb43919a003ba914",
     "grade": false,
     "grade_id": "cell-b9088197f0ab661c",
     "locked": true,
     "schema_version": 3,
     "solution": false
    }
   },
   "source": [
    "## 4. Training"
   ]
  },
  {
   "cell_type": "markdown",
   "metadata": {
    "deletable": false,
    "editable": false,
    "nbgrader": {
     "cell_type": "markdown",
     "checksum": "37db0968c390e269c2670d7f88e8d403",
     "grade": false,
     "grade_id": "cell-1c4e4c6b7186c418",
     "locked": true,
     "schema_version": 3,
     "solution": false
    }
   },
   "source": [
    "The fourth step is where you will choose the architecture of your network (number of hidden layers, activation functions, etc.), and train it. \n",
    "\n",
    "Start by choosing an architecture for your network."
   ]
  },
  {
   "cell_type": "code",
   "execution_count": 56,
   "metadata": {
    "deletable": false,
    "nbgrader": {
     "cell_type": "code",
     "checksum": "2dee567112649e4b688372cbabe29252",
     "grade": true,
     "grade_id": "cell-dff32f0d1dd91a72",
     "locked": false,
     "points": 0,
     "schema_version": 3,
     "solution": true,
     "task": false
    }
   },
   "outputs": [
    {
     "name": "stdout",
     "output_type": "stream",
     "text": [
      "Epoch 0\tLoss: 1.908 \tLoss (val): 0.987\tAccuracy: 0.49\tAccuracy (val): 0.35\n",
      "Epoch 1\tLoss: 0.984 \tLoss (val): 0.968\tAccuracy: 0.50\tAccuracy (val): 0.59\n",
      "Epoch 2\tLoss: 0.933 \tLoss (val): 0.868\tAccuracy: 0.61\tAccuracy (val): 0.67\n",
      "Epoch 3\tLoss: 0.861 \tLoss (val): 0.832\tAccuracy: 0.62\tAccuracy (val): 0.64\n",
      "Epoch 4\tLoss: 0.845 \tLoss (val): 0.806\tAccuracy: 0.61\tAccuracy (val): 0.65\n",
      "Epoch 5\tLoss: 0.833 \tLoss (val): 0.812\tAccuracy: 0.62\tAccuracy (val): 0.65\n",
      "Epoch 6\tLoss: 0.835 \tLoss (val): 0.813\tAccuracy: 0.62\tAccuracy (val): 0.64\n",
      "Epoch 7\tLoss: 0.813 \tLoss (val): 0.813\tAccuracy: 0.62\tAccuracy (val): 0.66\n",
      "Epoch 8\tLoss: 0.809 \tLoss (val): 0.790\tAccuracy: 0.62\tAccuracy (val): 0.67\n",
      "Epoch 9\tLoss: 0.804 \tLoss (val): 0.791\tAccuracy: 0.61\tAccuracy (val): 0.65\n",
      "Epoch 10\tLoss: 0.801 \tLoss (val): 0.777\tAccuracy: 0.61\tAccuracy (val): 0.64\n",
      "Epoch 11\tLoss: 0.798 \tLoss (val): 0.790\tAccuracy: 0.62\tAccuracy (val): 0.63\n",
      "Epoch 12\tLoss: 0.796 \tLoss (val): 0.779\tAccuracy: 0.62\tAccuracy (val): 0.66\n",
      "Epoch 13\tLoss: 0.808 \tLoss (val): 0.788\tAccuracy: 0.61\tAccuracy (val): 0.67\n",
      "Epoch 14\tLoss: 0.800 \tLoss (val): 0.790\tAccuracy: 0.62\tAccuracy (val): 0.64\n",
      "Epoch 15\tLoss: 0.806 \tLoss (val): 0.793\tAccuracy: 0.62\tAccuracy (val): 0.67\n",
      "Epoch 16\tLoss: 0.798 \tLoss (val): 0.789\tAccuracy: 0.61\tAccuracy (val): 0.62\n",
      "Epoch 17\tLoss: 0.804 \tLoss (val): 0.784\tAccuracy: 0.61\tAccuracy (val): 0.65\n",
      "Epoch 18\tLoss: 0.799 \tLoss (val): 0.808\tAccuracy: 0.62\tAccuracy (val): 0.62\n",
      "Epoch 19\tLoss: 0.797 \tLoss (val): 0.769\tAccuracy: 0.60\tAccuracy (val): 0.65\n",
      "Epoch 20\tLoss: 0.799 \tLoss (val): 0.772\tAccuracy: 0.62\tAccuracy (val): 0.64\n",
      "Epoch 21\tLoss: 0.796 \tLoss (val): 0.765\tAccuracy: 0.62\tAccuracy (val): 0.62\n",
      "Epoch 22\tLoss: 0.799 \tLoss (val): 0.780\tAccuracy: 0.60\tAccuracy (val): 0.66\n",
      "Epoch 23\tLoss: 0.797 \tLoss (val): 0.780\tAccuracy: 0.62\tAccuracy (val): 0.65\n",
      "Epoch 24\tLoss: 0.795 \tLoss (val): 0.786\tAccuracy: 0.60\tAccuracy (val): 0.67\n",
      "Epoch 25\tLoss: 0.789 \tLoss (val): 0.787\tAccuracy: 0.64\tAccuracy (val): 0.64\n",
      "Epoch 26\tLoss: 0.810 \tLoss (val): 0.768\tAccuracy: 0.62\tAccuracy (val): 0.66\n",
      "Epoch 27\tLoss: 0.788 \tLoss (val): 0.779\tAccuracy: 0.63\tAccuracy (val): 0.64\n",
      "Epoch 28\tLoss: 0.791 \tLoss (val): 0.786\tAccuracy: 0.63\tAccuracy (val): 0.65\n",
      "Epoch 29\tLoss: 0.802 \tLoss (val): 0.791\tAccuracy: 0.62\tAccuracy (val): 0.68\n"
     ]
    }
   ],
   "source": [
    "# YOUR CODE HERE\n",
    "from torch import nn\n",
    "\n",
    "# the below codes are taken fron the CL2\n",
    "\n",
    "# learnng rate\n",
    "lr        = 0.01234\n",
    "# number of epochs\n",
    "epoch=30\n",
    "# batch size for train and val\n",
    "batchsize_train = 100\n",
    "batchsize_val = 150\n",
    "\n",
    "\n",
    "from torch.utils.data import TensorDataset\n",
    "from torch.utils.data import DataLoader\n",
    "\n",
    "\n",
    "\n",
    "\n",
    "train_dataset = TensorDataset(x_train, y_train)\n",
    "train_t_data_loader = DataLoader(train_dataset, batch_size=batchsize_train, shuffle=True)\n",
    "\n",
    "val_dataset = TensorDataset(x_val, y_val)\n",
    "val_t_data_loader = DataLoader(val_dataset, batch_size=batchsize_val, shuffle=True)\n",
    "\n",
    "\n",
    "\n",
    "# Our model inherits from `nn.Module`, just as with the `LinearRegressor` in CL1.\n",
    "class LogisticRegressor(nn.Module):\n",
    "    def __init__(self):\n",
    "        super().__init__()\n",
    "        self.linear1 = nn.Linear(2,3)\n",
    "        self.linear2 = nn.Linear(3,3)\n",
    "\n",
    "    def forward(self, x):\n",
    "        # the output from the first layer should be sent to the relu activation function\n",
    "        x = F.relu(self.linear1(x))\n",
    "        return self.linear2(x)\n",
    "    \n",
    "\n",
    "# Define the model\n",
    "\n",
    "loss_fn = nn.CrossEntropyLoss()\n",
    "\n",
    "\n",
    "# Reset the model and the optimizer\n",
    "model = LogisticRegressor()\n",
    "optimizer = optim.Adam(model.parameters(), lr)\n",
    "\n",
    "\n",
    "\n",
    "for epoch in range(epoch):\n",
    "    \n",
    "    # Compute predictions and back-prop in the training set\n",
    "    losses = []\n",
    "    n_correct = 0\n",
    "    for b_x, b_y in train_t_data_loader:\n",
    "        pred = model(b_x)\n",
    "        loss = loss_fn(pred, b_y)\n",
    "        losses.append(loss.item())\n",
    "        \n",
    "        hard_preds = pred.argmax(dim=1)\n",
    "        n_correct += (pred.argmax(dim=1) == b_y).sum().item()\n",
    "\n",
    "        loss.backward()\n",
    "        optimizer.step()\n",
    "        optimizer.zero_grad()\n",
    "    train_accuracy = n_correct/len(train_dataset)\n",
    "    train_avg_loss = sum(losses)/len(losses)    \n",
    "\n",
    "        \n",
    "    # Compute predictions in the validation set (with adagrad deactivated)\n",
    "    losses = []\n",
    "    n_correct = 0\n",
    "    with torch.no_grad():\n",
    "        for b_x, b_y in val_t_data_loader:\n",
    "            pred = model(b_x)\n",
    "            loss = loss_fn(pred, b_y)\n",
    "            losses.append(loss.item())\n",
    "            \n",
    "            hard_preds = pred.argmax(dim=1)\n",
    "            n_correct += (pred.argmax(dim=1) == b_y).sum().item()\n",
    "        val_accuracy = n_correct/len(val_dataset)\n",
    "        val_avg_loss = sum(losses)/len(losses)      \n",
    "        \n",
    "        \n",
    "    display_str = 'Epoch {}'\n",
    "    display_str += '\\tLoss: {:.3f} '\n",
    "    display_str += '\\tLoss (val): {:.3f}'\n",
    "    display_str += '\\tAccuracy: {:.2f}'\n",
    "    display_str += '\\tAccuracy (val): {:.2f}'\n",
    "    print(display_str.format(epoch, train_avg_loss, val_avg_loss, train_accuracy, val_accuracy))\n",
    "    \n",
    "    ################################################3\n",
    "    \n",
    "     \n",
    "    \n",
    "        \n"
   ]
  },
  {
   "cell_type": "markdown",
   "metadata": {
    "deletable": false,
    "editable": false,
    "nbgrader": {
     "cell_type": "markdown",
     "checksum": "4e56a39b734fb1a6785dc7d5ef30dc51",
     "grade": false,
     "grade_id": "cell-d91e1230c6b9225d",
     "locked": true,
     "schema_version": 3,
     "solution": false
    }
   },
   "source": [
    "Train the network."
   ]
  },
  {
   "cell_type": "code",
   "execution_count": 57,
   "metadata": {
    "deletable": false,
    "nbgrader": {
     "cell_type": "code",
     "checksum": "4e418b4c1971dc704387808b8c1a403c",
     "grade": true,
     "grade_id": "cell-711ca3d58ad725b4",
     "locked": false,
     "points": 0,
     "schema_version": 3,
     "solution": true
    }
   },
   "outputs": [],
   "source": [
    "# YOUR CODE HERE"
   ]
  },
  {
   "cell_type": "markdown",
   "metadata": {
    "deletable": false,
    "editable": false,
    "nbgrader": {
     "cell_type": "markdown",
     "checksum": "31a8f27079a092404f91133f77fa764c",
     "grade": false,
     "grade_id": "cell-72062a93915888b4",
     "locked": true,
     "schema_version": 3,
     "solution": false
    }
   },
   "source": [
    "For you to pass this assignment, you must obtain an accuracy on the validation set greater than 50%. It may be necessary to search for a good architecture by trying several different ones. If you want a challenge, try getting an accuracy greater than 63%."
   ]
  },
  {
   "cell_type": "markdown",
   "metadata": {
    "deletable": false,
    "editable": false,
    "nbgrader": {
     "cell_type": "markdown",
     "checksum": "08f25d921ab7040f778a202f5a69b1a7",
     "grade": false,
     "grade_id": "cell-effc356fff18a4b5",
     "locked": true,
     "schema_version": 3,
     "solution": false
    }
   },
   "source": [
    "## 5. Evaluation"
   ]
  },
  {
   "cell_type": "markdown",
   "metadata": {
    "deletable": false,
    "editable": false,
    "nbgrader": {
     "cell_type": "markdown",
     "checksum": "3fde4c14a763e71443a14b720b2d2e77",
     "grade": false,
     "grade_id": "cell-b2bbee2adf94b7d3",
     "locked": true,
     "schema_version": 3,
     "solution": false
    }
   },
   "source": [
    "Once you achieved at least 50% accuracy in the validation set, we are done with training. Now we'll evaluate the performance of your classifier on the test set."
   ]
  },
  {
   "cell_type": "markdown",
   "metadata": {
    "deletable": false,
    "editable": false,
    "nbgrader": {
     "cell_type": "markdown",
     "checksum": "79420c8cb4af750ed05be42a2c4d528b",
     "grade": false,
     "grade_id": "cell-3f4ab762e2890554",
     "locked": true,
     "schema_version": 3,
     "solution": false
    }
   },
   "source": [
    "Compute the accuracy on the test set."
   ]
  },
  {
   "cell_type": "code",
   "execution_count": 58,
   "metadata": {
    "deletable": false,
    "nbgrader": {
     "cell_type": "code",
     "checksum": "5251eed9c71815693e915582fcac7643",
     "grade": true,
     "grade_id": "cell-64d1008aafb3e518",
     "locked": false,
     "points": 0,
     "schema_version": 3,
     "solution": true,
     "task": false
    }
   },
   "outputs": [
    {
     "name": "stdout",
     "output_type": "stream",
     "text": [
      "Accuracy: 0.68\n"
     ]
    },
    {
     "name": "stderr",
     "output_type": "stream",
     "text": [
      "E:\\anaconda\\envs\\dml\\lib\\site-packages\\ipykernel_launcher.py:2: UserWarning: To copy construct from a tensor, it is recommended to use sourceTensor.clone().detach() or sourceTensor.clone().detach().requires_grad_(True), rather than torch.tensor(sourceTensor).\n",
      "  \n",
      "E:\\anaconda\\envs\\dml\\lib\\site-packages\\ipykernel_launcher.py:3: UserWarning: To copy construct from a tensor, it is recommended to use sourceTensor.clone().detach() or sourceTensor.clone().detach().requires_grad_(True), rather than torch.tensor(sourceTensor).\n",
      "  This is separate from the ipykernel package so we can avoid doing imports until\n"
     ]
    }
   ],
   "source": [
    "# YOUR CODE HERE\n",
    "test_samples = torch.tensor(x_test, dtype=torch.float32)\n",
    "test_labels = torch.tensor(y_test, dtype=torch.int64)\n",
    "\n",
    "preds = model(test_samples).argmax(dim=1)\n",
    "\n",
    "acc = (preds == test_labels).sum().item()/len(preds)\n",
    "print(\"Accuracy: %.2f\" % acc)"
   ]
  },
  {
   "cell_type": "markdown",
   "metadata": {
    "deletable": false,
    "editable": false,
    "nbgrader": {
     "cell_type": "markdown",
     "checksum": "56aa12a95fe3c466649cff3f8a0097de",
     "grade": false,
     "grade_id": "cell-8232dd159f8d4887",
     "locked": true,
     "schema_version": 3,
     "solution": false
    }
   },
   "source": [
    "Compute the confusion matrix of your predictions on the test set."
   ]
  },
  {
   "cell_type": "code",
   "execution_count": 59,
   "metadata": {
    "deletable": false,
    "nbgrader": {
     "cell_type": "code",
     "checksum": "fabe3566394c7037a10d86e5b5256d8d",
     "grade": true,
     "grade_id": "cell-9475a5163acc3249",
     "locked": false,
     "points": 0,
     "schema_version": 3,
     "solution": true,
     "task": false
    }
   },
   "outputs": [
    {
     "data": {
      "text/plain": [
       "array([[ 76,  29,  41],\n",
       "       [  7,  97,  41],\n",
       "       [ 16,   0, 110]], dtype=int64)"
      ]
     },
     "execution_count": 59,
     "metadata": {},
     "output_type": "execute_result"
    }
   ],
   "source": [
    "# YOUR CODE HERE\n",
    "\n",
    "from sklearn.metrics import confusion_matrix\n",
    "confusion_matrix(test_labels, preds)"
   ]
  },
  {
   "cell_type": "markdown",
   "metadata": {
    "deletable": false,
    "editable": false,
    "nbgrader": {
     "cell_type": "markdown",
     "checksum": "742f3a87c97efede0dc19953c1db108b",
     "grade": false,
     "grade_id": "cell-a5e9c635fcf0e14d",
     "locked": true,
     "schema_version": 3,
     "solution": false
    }
   },
   "source": [
    "What can you conclude from the computed accuracy and confusion matrix?"
   ]
  },
  {
   "cell_type": "markdown",
   "metadata": {
    "deletable": false,
    "nbgrader": {
     "cell_type": "markdown",
     "checksum": "59b0c3fb373653839818423f7129f074",
     "grade": true,
     "grade_id": "cell-b93435335accba07",
     "locked": false,
     "points": 0,
     "schema_version": 3,
     "solution": true
    }
   },
   "source": [
    "**Your answer:** (fill in here)\n",
    "______________________________________________________________________________________________________________________________\n",
    "\n",
    "***From the 56% accuracy with the test dataset, we can say that the model can detect the Tauros and Seel pretty well but not for the Digletts. From the section 2 scatter plot, we can see that the Digletts is spreaded with the other 2 pokemons. Therefore, This model finding difficulty in finding the pokemon Digletts in that cluster and it correctly classifed only 6 Digletts pokemons and it misclassified as other pokemons.***\n",
    "\n",
    "\n",
    "\n",
    "______________________________________________________________________________________________________________________________"
   ]
  },
  {
   "cell_type": "markdown",
   "metadata": {
    "deletable": false,
    "editable": false,
    "nbgrader": {
     "cell_type": "markdown",
     "checksum": "3c40d3a1011baf32ab12185c9f1f6ba9",
     "grade": false,
     "grade_id": "cell-d64ba10a699f05f3",
     "locked": true,
     "schema_version": 3,
     "solution": false,
     "task": false
    }
   },
   "source": [
    "Visualize the decision regions of the network. Overlap it with the points corresponding to the training data, such as in Section 2, by using the scatter plot function.\n",
    "\n",
    "Hint: A simple way to do it is to generate a lot of points within a predefined range of longitude and latitude and apply your network to it. However, feel free to explore other ways."
   ]
  },
  {
   "cell_type": "code",
   "execution_count": 60,
   "metadata": {
    "deletable": false,
    "nbgrader": {
     "cell_type": "code",
     "checksum": "298813aa672049ece0fadc7693b59e11",
     "grade": true,
     "grade_id": "cell-2cfbecf57fd1043f",
     "locked": false,
     "points": 0,
     "schema_version": 3,
     "solution": true,
     "task": false
    }
   },
   "outputs": [
    {
     "name": "stdout",
     "output_type": "stream",
     "text": [
      "Red region indicates Diglett region\n",
      "black region indicates tauros region\n",
      "blue region indicates seel region\n"
     ]
    },
    {
     "data": {
      "image/png": "[encoded data removed]",
      "text/plain": [
       "<Figure size 720x576 with 1 Axes>"
      ]
     },
     "metadata": {
      "needs_background": "light"
     },
     "output_type": "display_data"
    }
   ],
   "source": [
    "from sklearn.preprocessing import StandardScaler\n",
    "from matplotlib.colors import ListedColormap\n",
    "\n",
    "#2. Generate decision surface boundaries\n",
    "#min1, max1 = X_set[:, 0].min() - 10, X_set[:, 0].max() + 10 # for Age\n",
    "#min2, max2 = X_set[:, 1].min() - 1000, X_set[:, 1].max() + 1000 # for salary\n",
    "\n",
    "# 1-latitude\n",
    "# 2-longitude\n",
    "\n",
    "max1 = loaded_data['latitude'].values.max()\n",
    "max2 = loaded_data['longitude'].values.max()\n",
    "\n",
    "min1 = loaded_data['latitude'].values.min()\n",
    "min2 = loaded_data['longitude'].values.min()\n",
    "\n",
    "#3. Set coordinates scale accuracy\n",
    "x_scale ,y_scale = np.arange(min1, max1, 0.25), np.arange(min2, max2, 0.25)\n",
    "\n",
    "\n",
    "#4. Convert into vector \n",
    "x_grid, y_grid = np.meshgrid(x_scale, y_scale)\n",
    "\n",
    "x_g, y_g = x_grid.flatten(), y_grid.flatten()\n",
    "x_g, y_g = x_g.reshape((len(x_g), 1)), y_g.reshape((len(y_g), 1))\n",
    "\n",
    "grid = np.hstack((x_g, y_g))\n",
    "\n",
    "torch_x_test = torch.tensor(grid, dtype=torch.float32)\n",
    "\n",
    "\n",
    "# make predictions for the grid\n",
    "y_pred_2 = model(torch_x_test).argmax(dim=1).reshape(x_grid.shape)\n",
    "\n",
    "\n",
    "fig, ax = plt.subplots(figsize=(10,8))\n",
    "\n",
    "\n",
    "#8. set the plot size\n",
    "#plt.figure(figsize=(20,10))\n",
    "#9. plot the contour function\n",
    "\n",
    "plt.contourf(x_grid, y_grid, y_pred_2,alpha = 0.75,cmap = ListedColormap(('red', 'black','blue')))\n",
    "\n",
    "\n",
    "\n",
    "# Scatter for Diglett\n",
    "ax.scatter(Diglett['latitude'],Diglett['longitude'], color = \"r\", marker = \"x\", label = \"Diglett\")\n",
    "# Scatter for Tauros\n",
    "ax.scatter(Tauros['latitude'],Tauros['longitude'], color = \"k\", marker = \"+\", label = \"Tauros\")\n",
    "# Scatter for Seel\n",
    "ax.scatter(Seel['latitude'],Seel['longitude'], color = \"b\", marker = \"o\", label = \"Seel\")\n",
    "\n",
    "\n",
    "ax.legend()\n",
    "ax.set_xlabel(\"latitude\")\n",
    "ax.set_ylabel(\"longitude\")\n",
    "print(\"Red region indicates Diglett region\")\n",
    "print(\"black region indicates tauros region\")\n",
    "print(\"blue region indicates seel region\")"
   ]
  },
  {
   "cell_type": "code",
   "execution_count": null,
   "metadata": {},
   "outputs": [],
   "source": []
  },
  {
   "cell_type": "code",
   "execution_count": null,
   "metadata": {},
   "outputs": [],
   "source": []
  },
  {
   "cell_type": "markdown",
   "metadata": {
    "deletable": false,
    "editable": false,
    "nbgrader": {
     "cell_type": "markdown",
     "checksum": "45326e647639aa6e0ca4231f2ddabfc7",
     "grade": false,
     "grade_id": "cell-2356390d7821c9a1",
     "locked": true,
     "schema_version": 3,
     "solution": false,
     "task": false
    }
   },
   "source": [
    "Do the learned decision regions look like you would expect? Please comment on your results. "
   ]
  },
  {
   "cell_type": "markdown",
   "metadata": {
    "deletable": false,
    "nbgrader": {
     "cell_type": "markdown",
     "checksum": "d9b96878943770222d21f73a2a191b08",
     "grade": true,
     "grade_id": "cell-8d948a53e74c0181",
     "locked": false,
     "points": 0,
     "schema_version": 3,
     "solution": true,
     "task": false
    }
   },
   "source": [
    "**Your answer:** (fill in here)\n",
    "\n",
    "**The decision plots looks like reasonable because we can see the large red region which indicates the Diglett pokemon spreaded lot when comparing with other pokemons and after that seel, which got clustered in two regions and it's second largest region. For the tauros, it clustered in one particular region and it got less region occupied when comparing with other pokemons.**"
   ]
  },
  {
   "cell_type": "markdown",
   "metadata": {
    "deletable": false,
    "editable": false,
    "nbgrader": {
     "cell_type": "markdown",
     "checksum": "99a1266a62880be4cf1f724ed704ddb2",
     "grade": false,
     "grade_id": "cell-b731aebed710ae07",
     "locked": true,
     "schema_version": 3,
     "solution": false
    }
   },
   "source": [
    "## 6. Exploration"
   ]
  },
  {
   "cell_type": "markdown",
   "metadata": {
    "deletable": false,
    "editable": false,
    "nbgrader": {
     "cell_type": "markdown",
     "checksum": "ca3f2bc4e6ee91e121425e12e58b589d",
     "grade": false,
     "grade_id": "cell-79904bd828487a07",
     "locked": true,
     "schema_version": 3,
     "solution": false
    }
   },
   "source": [
    "You have now trained and evaluated a neural network for this particular classification task. Can you provide a brief explanation as to how you could use it to decide where to travel, if you're interested in capturing the aforementioned Pokemons?"
   ]
  },
  {
   "cell_type": "markdown",
   "metadata": {
    "deletable": false,
    "nbgrader": {
     "cell_type": "markdown",
     "checksum": "a8aeac76ab83248b3e84126f1200e50f",
     "grade": true,
     "grade_id": "cell-79ac9ff2b09a41b5",
     "locked": false,
     "points": 0,
     "schema_version": 3,
     "solution": true
    }
   },
   "source": [
    "**Your answer:** (fill in here)\n",
    "\n",
    "______________________________________________________________________________________________________________________________\n",
    "\n",
    "**From the confusion matrix and the scatter plots, we can see that the pokemon Digletts is difficult to caught because it was spreaded over all the places in the graph and classification of the seel and Tuaros are bit easy when comparing with the Digletts. So if we start caughting the other 2 pokemons first, then we can easily capture out the Digletts pokemon.**\n",
    "\n",
    "\n",
    "\n",
    "______________________________________________________________________________________________________________________________\n"
   ]
  },
  {
   "cell_type": "markdown",
   "metadata": {
    "deletable": false,
    "editable": false,
    "nbgrader": {
     "cell_type": "markdown",
     "checksum": "90283187bfd4f2f6aaf11df18a8e88ba",
     "grade": false,
     "grade_id": "cell-8041a4537430ba53",
     "locked": true,
     "schema_version": 3,
     "solution": false
    }
   },
   "source": [
    "Is (are) there any other feature(s) from the original dataset (e.g. hour of the day, pressure, wind speed, population density, etc.) which you think would be valuable to add as an input feature to your classifier to improve its performance? "
   ]
  },
  {
   "cell_type": "markdown",
   "metadata": {
    "deletable": false,
    "nbgrader": {
     "cell_type": "markdown",
     "checksum": "92bfb21c07460ec7bf06f56c3acee803",
     "grade": true,
     "grade_id": "cell-c2def6009a95f2a6",
     "locked": false,
     "points": 0,
     "schema_version": 3,
     "solution": true
    }
   },
   "source": [
    "**Your answer:** (fill in here)\n",
    "\n",
    "______________________________________________________________________________________________________________________________\n",
    "\n",
    "**From the main dataset, there are many features that we can use to improve the performance of our classifier. Here, I am using a three features like temperature , weather and windspeed because I believe the weather factors play a major in finding the pokemon. Hence, we can predict a clue exactly when it has highest probability to find and catch the three pokemons.**\n",
    "\n",
    "\n",
    "\n",
    "______________________________________________________________________________________________________________________________\n"
   ]
  },
  {
   "cell_type": "markdown",
   "metadata": {
    "deletable": false,
    "editable": false,
    "nbgrader": {
     "cell_type": "markdown",
     "checksum": "4e0eb26832febb3a136740004988db6b",
     "grade": false,
     "grade_id": "cell-e9f21e8b0fe33751",
     "locked": true,
     "schema_version": 3,
     "solution": false
    }
   },
   "source": [
    "To investigate your hypothesis, plot a histogram of the selected feature(s) for each one of the pokemons we're interested in. For example, if you think pressure and population density are valuable for prediction, plot 6 histograms. 3 of them will be the pressure histograms for each class ('Diglett', 'Seel' and 'Tauros'), and the other 3 will be the population density for each class."
   ]
  },
  {
   "cell_type": "code",
   "execution_count": 61,
   "metadata": {
    "deletable": false,
    "nbgrader": {
     "cell_type": "code",
     "checksum": "6701fb6bd1284791b9c065777eaaebae",
     "grade": true,
     "grade_id": "cell-b18deaa33c46ec92",
     "locked": false,
     "points": 0,
     "schema_version": 3,
     "solution": true
    }
   },
   "outputs": [],
   "source": [
    "# YOUR CODE HERE\n",
    "dataset = df[['weather', 'pokestopIn100m', 'temperature','population_density','class','windSpeed']]\n",
    "\n",
    "Diglett_data=dataset[dataset['class'].isin([Diglett_number])]\n",
    "Seel_data=dataset[dataset['class'].isin([Seel_number])]\n",
    "Tauros_data=dataset[dataset['class'].isin([Tauros_number])]\n"
   ]
  },
  {
   "cell_type": "code",
   "execution_count": null,
   "metadata": {},
   "outputs": [],
   "source": []
  },
  {
   "cell_type": "code",
   "execution_count": 62,
   "metadata": {},
   "outputs": [
    {
     "data": {
      "text/plain": [
       "<matplotlib.legend.Legend at 0x2863a06e288>"
      ]
     },
     "execution_count": 62,
     "metadata": {},
     "output_type": "execute_result"
    },
    {
     "data": {
      "image/png": "[encoded data removed]",
      "text/plain": [
       "<Figure size 432x288 with 3 Axes>"
      ]
     },
     "metadata": {
      "needs_background": "light"
     },
     "output_type": "display_data"
    },
    {
     "data": {
      "image/png": "[encoded data removed]",
      "text/plain": [
       "<Figure size 432x288 with 3 Axes>"
      ]
     },
     "metadata": {
      "needs_background": "light"
     },
     "output_type": "display_data"
    },
    {
     "data": {
      "image/png": "[encoded data removed]",
      "text/plain": [
       "<Figure size 432x288 with 3 Axes>"
      ]
     },
     "metadata": {
      "needs_background": "light"
     },
     "output_type": "display_data"
    }
   ],
   "source": [
    "\n",
    "# weather plot for the 3 pokemons\n",
    "fig, (ax1,ax2,ax3) = plt.subplots(3)\n",
    "ax1.hist(Diglett_data['weather'], bins=25, color = 'k', label = 'Diglett')\n",
    "ax2.hist(Seel_data['weather'], bins=25, color = 'b', label = 'Seel')\n",
    "ax3.hist(Tauros_data['weather'], bins=25, color = 'g', label = 'Tauros')\n",
    "fig.suptitle('weather')\n",
    "fig.legend()\n",
    "\n",
    "\n",
    "\n",
    "\n",
    "# temperature plot for the 3 pokemons\n",
    "fig, (ax1,ax2,ax3) = plt.subplots(3)\n",
    "ax1.hist(Diglett_data['temperature'], bins=25, color = 'k', label = 'Diglett')\n",
    "ax2.hist(Seel_data['temperature'], bins=25, color = 'b', label = 'Seel')\n",
    "ax3.hist(Tauros_data['temperature'], bins=25, color = 'g', label = 'Tauros')\n",
    "fig.suptitle('temperature')\n",
    "fig.legend()\n",
    "\n",
    "\n",
    "\n",
    "# windSpeed plot for the 3 pokemons\n",
    "fig, (ax1,ax2,ax3) = plt.subplots(3)\n",
    "ax1.hist(Diglett_data['windSpeed'], bins=25, color = 'k', label = 'Diglett')\n",
    "ax2.hist(Seel_data['windSpeed'], bins=25, color = 'b', label = 'Seel')\n",
    "ax3.hist(Tauros_data['windSpeed'], bins=25, color = 'g', label = 'Tauros')\n",
    "fig.suptitle('windSpeed')\n",
    "fig.legend()\n",
    "\n"
   ]
  },
  {
   "cell_type": "markdown",
   "metadata": {
    "deletable": false,
    "editable": false,
    "nbgrader": {
     "cell_type": "markdown",
     "checksum": "b096f6cbd29f00b911b1875683ed7a98",
     "grade": false,
     "grade_id": "cell-f51c8bdfaf2e03f4",
     "locked": true,
     "schema_version": 3,
     "solution": false
    }
   },
   "source": [
    "What does(do) this(ese) histogram(s) show you? Could it be beneficial to add this(ese) new feature(s) as input? Explain why/why not."
   ]
  },
  {
   "cell_type": "markdown",
   "metadata": {
    "deletable": false,
    "nbgrader": {
     "cell_type": "markdown",
     "checksum": "c4810811a9300a653185a38c62a0f73c",
     "grade": true,
     "grade_id": "cell-f9522e4fa9c010be",
     "locked": false,
     "points": 0,
     "schema_version": 3,
     "solution": true
    }
   },
   "source": [
    "**Your answer:** (fill in here)\n",
    "\n",
    "________________________________________________________________________________________________________________________________\n",
    "\n",
    "**Here, we have plotted the three different plots of temperature, pressure and weather factors for the three different pokemons Diglett, Seel, and Tauros.**\n",
    "\n",
    "**From the weather histogram, We can clearly see that all the 3 pokemons has one common feature in the weather factor. Mostly, 90 percent of the pokemons can be found if we go on a clear weather rather than other climatic conditions like rain,snow,fog, etc. So, If we sort out the pokemons that we can find in the clear weather, then the accuarcy of the model can be increased well and easy to find the pokemons.**\n",
    "\n",
    "**From the Temperature histogram, We can clearly see that all the 3 pokemons has one common feature lin the temperature factor. Mostly of the pokemons can be found if we go on a temperature between 15-30 degree celcius rather than other very low temperature conditions. I have observed 20 degree celsius is the optimal mean temperature for finding the pokemons. So, If we sort out the pokemons that we can find in the 15-30 degree celcius of temperature, then the accuarcy of the model can be increased well and easy to find the pokemons.**\n",
    "\n",
    "\n",
    "**From the Windspeed histogram, We can clearly see that all the 3 pokemons has one common feature lin the temperature factor. Mostly of the pokemons can be found if we go on a temperature between 15-30 degree celcius rather than other very low temperature conditions. I have observed 20 degree celsius is the optimal mean temperature for finding the pokemons. So, If we sort out the pokemons that we can find in the 15-30 degree celcius of temperature, then the accuarcy of the model can be increased well and easy to find the pokemons.**\n",
    "\n",
    "**The last histogram diagram tells that the windspeed of 5km/hr would be the optimal one to find a pokemon and we have the highest probability to catch these three pokemons. However, In windspeed of 5-10km/hr, they do appear pretty often too.**\n",
    "________________________________________________________________________________________________________________________________\n"
   ]
  },
  {
   "cell_type": "markdown",
   "metadata": {
    "deletable": false,
    "editable": false,
    "nbgrader": {
     "cell_type": "markdown",
     "checksum": "2b08ef9f5772b926b5fdf8a696527de8",
     "grade": false,
     "grade_id": "cell-284bf5af1750b1b5",
     "locked": true,
     "schema_version": 3,
     "solution": false,
     "task": false
    }
   },
   "source": [
    "The purpose was this assignment was mostly to make you design a network for classification, using this Pokemon dataset as use case. However, if you want to find those three particular Pokemons, most likely using a network for classification is not the best approach. An alternative would be to perform localization by using regression instead. **Can you state some pros and cons of approach this as a regression problem instead of a classification problem?** (We do not except very detailed answers, you will pass the assignment as long as you make a reasonable attempt at explaining the pros and cons.)"
   ]
  },
  {
   "cell_type": "markdown",
   "metadata": {
    "deletable": false,
    "nbgrader": {
     "cell_type": "markdown",
     "checksum": "dd2cd90f071d43e463aea1a3f0852c49",
     "grade": true,
     "grade_id": "cell-bd241242621ae646",
     "locked": false,
     "points": 0,
     "schema_version": 3,
     "solution": true,
     "task": false
    }
   },
   "source": [
    "**Your answer:** (fill in here)\n",
    "\n",
    "**When we take a regression problem and a classification problem, we have both pros and cons. I believe that the regression preditive problem is a task of approximating a mapping function from input variables (X) to a continuous output variable (y). And the contineous output could be a numerical numbers values like price or amount.** \n",
    "\n",
    "**The classification problem is a task of approximating a mapping function (f) from input variables (X) to discrete output variables(y). These discrete outputs may be the probabilites of the labels or any catagories. For example whether it is a cat or dog.**\n",
    "\n",
    "**In our problem the regression model will suit for a suitation like given a certain longitude and tells me at what latitude we should to find a pokemon and this could be like a prediting a certain numerical values. But it is not useful to find any one class of pokemon with the given data. To over come this, the classification model would be more useful for finding the particular class of the pokemon as seen in the scatter plot**"
   ]
  },
  {
   "cell_type": "markdown",
   "metadata": {
    "deletable": false,
    "editable": false,
    "nbgrader": {
     "cell_type": "markdown",
     "checksum": "c457c6ffe7696ea8b13215805bb2fa2c",
     "grade": false,
     "grade_id": "cell-fccdd48334c7c70c",
     "locked": true,
     "schema_version": 3,
     "solution": false
    }
   },
   "source": [
    "## 7. (optional)"
   ]
  },
  {
   "cell_type": "markdown",
   "metadata": {
    "deletable": false,
    "editable": false,
    "nbgrader": {
     "cell_type": "markdown",
     "checksum": "efe34b502ca4d51a53e7b32992411f97",
     "grade": false,
     "grade_id": "cell-3e8a75d10f4fb404",
     "locked": true,
     "schema_version": 3,
     "solution": false
    }
   },
   "source": [
    "Assuming you found useful new features in the last part of this assignment, train a new classifier that uses these featues as well. Did the accuracy on the validation set improve? What's the highest accuracy you can achieve?"
   ]
  },
  {
   "cell_type": "code",
   "execution_count": null,
   "metadata": {
    "deletable": false,
    "nbgrader": {
     "cell_type": "code",
     "checksum": "d483a1678e8725ea9ba41ce15bb78a64",
     "grade": true,
     "grade_id": "cell-c4a9ddfda9cd7a08",
     "locked": false,
     "points": 0,
     "schema_version": 3,
     "solution": true
    }
   },
   "outputs": [],
   "source": [
    "# YOUR CODE HERE"
   ]
  }
 ],
 "metadata": {
  "kernelspec": {
   "display_name": "Python 3 (ipykernel)",
   "language": "python",
   "name": "python3"
  },
  "language_info": {
   "codemirror_mode": {
    "name": "ipython",
    "version": 3
   },
   "file_extension": ".py",
   "mimetype": "text/x-python",
   "name": "python",
   "nbconvert_exporter": "python",
   "pygments_lexer": "ipython3",
   "version": "3.7.11"
  }
 },
 "nbformat": 4,
 "nbformat_minor": 2
}
